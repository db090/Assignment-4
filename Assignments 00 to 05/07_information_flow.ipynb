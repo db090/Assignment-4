{
 "cells": [
  {
   "cell_type": "markdown",
   "metadata": {},
   "source": [
    "00_choosing_returns:"
   ]
  },
  {
   "cell_type": "code",
   "execution_count": 12,
   "metadata": {},
   "outputs": [
    {
     "name": "stdout",
     "output_type": "stream",
     "text": [
      "False\n"
     ]
    }
   ],
   "source": [
    "ADULT_AGE : int = 18 # U.S. age \n",
    "\n",
    "def is_adult(age: int):\n",
    "    if age >= ADULT_AGE:\n",
    "        return True\n",
    "    \n",
    "    return False\n",
    "    \n",
    "########## No need to edit code beyond this point :) ##########\n",
    "\n",
    "def main():\n",
    "    age : str = int(input(\"How old is this person?: \"))\n",
    "    print(is_adult(age))\n",
    "    \n",
    "\n",
    "if __name__ == \"__main__\":\n",
    "    main()"
   ]
  },
  {
   "cell_type": "markdown",
   "metadata": {},
   "source": [
    "01_greetings:"
   ]
  },
  {
   "cell_type": "code",
   "execution_count": 13,
   "metadata": {},
   "outputs": [
    {
     "name": "stdout",
     "output_type": "stream",
     "text": [
      "Greetings ff!\n"
     ]
    }
   ],
   "source": [
    "def main():\n",
    "    name : str = input(\"What's your name? \")\n",
    "    print(greet(name))\n",
    "\n",
    "# There is no need to edit code beyond this point\n",
    "\n",
    "def greet(name):\n",
    "    return \"Greetings \" + name + \"!\"\n",
    "\t\n",
    "if __name__ == '__main__':\n",
    "    main()\n"
   ]
  },
  {
   "cell_type": "markdown",
   "metadata": {},
   "source": [
    "02_in_range:"
   ]
  },
  {
   "cell_type": "code",
   "execution_count": 14,
   "metadata": {},
   "outputs": [
    {
     "name": "stdout",
     "output_type": "stream",
     "text": [
      "True\n"
     ]
    }
   ],
   "source": [
    "def in_range(n,low,high):\n",
    "    return low<=n<=high\n",
    "def main():\n",
    "    print(in_range(1,0,10))\n",
    "\n",
    "\n",
    "# This provided line is required at the end of\n",
    "# Python file to call the main() function.\n",
    "if __name__ == '__main__':\n",
    "    main()"
   ]
  },
  {
   "cell_type": "markdown",
   "metadata": {},
   "source": [
    "03_in_stock:"
   ]
  },
  {
   "cell_type": "code",
   "execution_count": 16,
   "metadata": {},
   "outputs": [
    {
     "name": "stdout",
     "output_type": "stream",
     "text": [
      "this fruit is in stock here is how many:\n",
      " 1000\n"
     ]
    }
   ],
   "source": [
    "def main():\n",
    "\tfruit=input(\"enter the fruit you want to check in sophias inventory\")\n",
    "\tquantity=num_in_stock(fruit)\n",
    "\tif quantity > 0:\n",
    "\t\tprint(f\"this fruit is in stock here is how many:\\n {quantity}\")\n",
    "\telse:\n",
    "\t\tprint(\"This fruit is not in stock.\")\n",
    "def num_in_stock(fruit):\n",
    "\t\"\"\"\n",
    "\tThis function returns the number of fruit Sophia has in stock.\n",
    "\t\"\"\"\n",
    "\tif fruit == 'apple':\n",
    "\t\treturn 2\n",
    "\tif fruit == 'durian':\n",
    "\t\treturn 4\n",
    "\tif fruit == 'pear':\n",
    "\t\treturn 1000\n",
    "\telse:\n",
    "\t\t# this fruit is not in stock.\n",
    "\t\treturn 0\n",
    "\n",
    "\n",
    "if __name__ == '__main__':\n",
    "    main()"
   ]
  },
  {
   "cell_type": "markdown",
   "metadata": {},
   "source": [
    "04_multiple_returns:"
   ]
  },
  {
   "cell_type": "code",
   "execution_count": 18,
   "metadata": {},
   "outputs": [
    {
     "name": "stdout",
     "output_type": "stream",
     "text": [
      "recieved the following user data: ('daniyal', 'shamraiz', 'dhsmariaz61@gmail.com')\n"
     ]
    }
   ],
   "source": [
    "def get_user_data():\n",
    "    first_name=input(\"enter your first name\")\n",
    "    last_name=input(\"enter your second name\")\n",
    "    email=input(\"enter your email\")\n",
    "    return first_name,last_name,email\n",
    "\n",
    "def main():\n",
    "    user_info=get_user_data()\n",
    "    print(\"recieved the following user data:\",user_info)\n",
    "\n",
    "if __name__ == '__main__':\n",
    "    main()"
   ]
  },
  {
   "cell_type": "markdown",
   "metadata": {},
   "source": [
    "05_subtract_7:"
   ]
  },
  {
   "cell_type": "code",
   "execution_count": 20,
   "metadata": {},
   "outputs": [
    {
     "name": "stdout",
     "output_type": "stream",
     "text": [
      "0\n"
     ]
    }
   ],
   "source": [
    "def subtract_seven(n):\n",
    "    n=n-7\n",
    "    return n\n",
    "\n",
    "def main():\n",
    "    num:int=7\n",
    "    num=subtract_seven(7)\n",
    "    print(num)\n",
    "\n",
    "if __name__ == '__main__':\n",
    "    main()"
   ]
  }
 ],
 "metadata": {
  "kernelspec": {
   "display_name": "Python 3",
   "language": "python",
   "name": "python3"
  },
  "language_info": {
   "codemirror_mode": {
    "name": "ipython",
    "version": 3
   },
   "file_extension": ".py",
   "mimetype": "text/x-python",
   "name": "python",
   "nbconvert_exporter": "python",
   "pygments_lexer": "ipython3",
   "version": "3.13.2"
  }
 },
 "nbformat": 4,
 "nbformat_minor": 2
}
