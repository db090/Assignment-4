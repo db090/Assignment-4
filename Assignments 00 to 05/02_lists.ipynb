{
 "cells": [
  {
   "cell_type": "markdown",
   "metadata": {},
   "source": [
    "01_add_many_number:"
   ]
  },
  {
   "cell_type": "code",
   "execution_count": 1,
   "metadata": {},
   "outputs": [
    {
     "name": "stdout",
     "output_type": "stream",
     "text": [
      "15\n"
     ]
    }
   ],
   "source": [
    "def add_numbers(numbers)->int:\n",
    "    total:int=0\n",
    "    for number in numbers:\n",
    "        total+=number\n",
    "\n",
    "    return total\n",
    "\n",
    "def main():\n",
    "    numbers: list[int] = [1, 2, 3, 4, 5]  \n",
    "    sum_of_numbers: int = add_numbers(numbers)  \n",
    "    print(sum_of_numbers)  \n",
    "    \n",
    "\n",
    "\n",
    "\n",
    "if __name__ == '__main__':\n",
    "    main()"
   ]
  },
  {
   "cell_type": "markdown",
   "metadata": {},
   "source": [
    "02_double_list:"
   ]
  },
  {
   "cell_type": "code",
   "execution_count": null,
   "metadata": {},
   "outputs": [
    {
     "name": "stdout",
     "output_type": "stream",
     "text": [
      "[2, 4, 6, 8, 10]\n"
     ]
    }
   ],
   "source": [
    "def double_the_list(numbers: list[int]) -> list[int]:\n",
    "    return [number * 2 for number in numbers]\n",
    "\n",
    "\n",
    "def main():\n",
    "   numbers: list[int] = [1, 2, 3, 4, 5] \n",
    "   doubled_list:list[int]=double_the_list(numbers)\n",
    "   print(doubled_list)\n",
    "\n",
    "\n",
    "if __name__ == '__main__':\n",
    "    main()"
   ]
  },
  {
   "cell_type": "markdown",
   "metadata": {},
   "source": [
    "03_erase_canvas:"
   ]
  },
  {
   "cell_type": "code",
   "execution_count": null,
   "metadata": {},
   "outputs": [],
   "source": [
    "import tkinter as tk\n",
    "\n",
    "# Constants\n",
    "GRID_SIZE = 10 \n",
    "CELL_SIZE = 50 \n",
    "ERASER_SIZE = 60  \n",
    "\n",
    "\n",
    "def erase(event):\n",
    "    x, y = event.x, event.y  \n",
    "    for rect_id in canvas.find_withtag(\"cell\"): \n",
    "        coords = canvas.coords(rect_id)\n",
    "        if coords[0] < x < coords[2] and coords[1] < y < coords[3]:  \n",
    "            canvas.itemconfig(rect_id, fill=\"white\")  \n",
    "\n",
    "root = tk.Tk()\n",
    "root.title(\"Eraser Tool\")\n",
    "\n",
    "\n",
    "canvas = tk.Canvas(root, width=GRID_SIZE * CELL_SIZE, height=GRID_SIZE * CELL_SIZE, bg=\"white\")\n",
    "canvas.pack()\n",
    "\n",
    "\n",
    "for i in range(GRID_SIZE):\n",
    "    for j in range(GRID_SIZE):\n",
    "        x1, y1 = i * CELL_SIZE, j * CELL_SIZE\n",
    "        x2, y2 = x1 + CELL_SIZE, y1 + CELL_SIZE\n",
    "        canvas.create_rectangle(x1, y1, x2, y2, fill=\"blue\", outline=\"black\", tags=\"cell\")\n",
    "\n",
    "canvas.bind(\"<B1-Motion>\", erase)  \n",
    "\n",
    "\n",
    "root.mainloop()\n"
   ]
  },
  {
   "cell_type": "markdown",
   "metadata": {},
   "source": [
    "04_flowing_with_data_structures:"
   ]
  },
  {
   "cell_type": "code",
   "execution_count": 3,
   "metadata": {},
   "outputs": [
    {
     "name": "stdout",
     "output_type": "stream",
     "text": [
      "List before: []\n",
      "List after: ['hello', 'hello', 'hello']\n"
     ]
    }
   ],
   "source": [
    "def add_three_copies(my_list,data):\n",
    "    for i in range(3):\n",
    "        my_list.append(data)\n",
    "\n",
    "def main():\n",
    "    message=input(\"Enter a message to copy:\")\n",
    "    my_list=[]\n",
    "    print(\"List before:\",my_list)\n",
    "    add_three_copies(my_list,message)\n",
    "    print(\"List after:\",my_list)\n",
    "\n",
    "if __name__ == \"__main__\":\n",
    "    main()"
   ]
  },
  {
   "cell_type": "markdown",
   "metadata": {},
   "source": [
    "05_get_first_element:"
   ]
  },
  {
   "cell_type": "code",
   "execution_count": 4,
   "metadata": {},
   "outputs": [
    {
     "name": "stdout",
     "output_type": "stream",
     "text": [
      "gagga\n"
     ]
    }
   ],
   "source": [
    "def get_first_element(lst):\n",
    "    \"\"\"Prints the first element of a non-empty list.\"\"\"\n",
    "    print(lst[0])\n",
    "\n",
    "def main():\n",
    "    n=int(input(\"Enter the number of elements in the list\"))\n",
    "    lst=[]\n",
    "    for i in range(n):\n",
    "        element=input(f\"Enter the element {i+1}:\")\n",
    "        lst.append(element)\n",
    "\n",
    "    get_first_element(lst)\n",
    "\n",
    "if __name__ == \"__main__\":\n",
    "    main()"
   ]
  },
  {
   "cell_type": "markdown",
   "metadata": {},
   "source": [
    "06_get_last_element:"
   ]
  },
  {
   "cell_type": "code",
   "execution_count": 5,
   "metadata": {},
   "outputs": [
    {
     "name": "stdout",
     "output_type": "stream",
     "text": [
      "gaga\n"
     ]
    }
   ],
   "source": [
    "def get_last_element(lst):\n",
    "    \"\"\"Prints the last element of a non-empty list.\"\"\"\n",
    "    print(lst[0])\n",
    "\n",
    "def main():\n",
    "    n=int(input(\"Enter the number of elements in the list\"))\n",
    "    lst=[]\n",
    "    for i in range(n):\n",
    "        element=input(f\"Enter the element {i+1}:\")\n",
    "        lst.append(element)\n",
    "\n",
    "    get_last_element(lst)\n",
    "\n",
    "if __name__ == \"__main__\":\n",
    "    main()"
   ]
  },
  {
   "cell_type": "markdown",
   "metadata": {},
   "source": [
    "07_get_list:"
   ]
  },
  {
   "cell_type": "code",
   "execution_count": 8,
   "metadata": {},
   "outputs": [
    {
     "name": "stdout",
     "output_type": "stream",
     "text": [
      "Final list: ['g', 'g', 'g']\n"
     ]
    }
   ],
   "source": [
    "def get_list():\n",
    "    lst = []\n",
    "    while True:\n",
    "        elem = input(\"Enter an element to add to the list (press Enter to stop): \")\n",
    "        if elem == \"\":  \n",
    "            break\n",
    "        lst.append(elem)  \n",
    "\n",
    "    print(\"Final list:\", lst) \n",
    "\n",
    "def main():\n",
    "    get_list()\n",
    "\n",
    "if __name__ == '__main__':\n",
    "    main()\n"
   ]
  },
  {
   "cell_type": "markdown",
   "metadata": {},
   "source": [
    "08_shorten:"
   ]
  },
  {
   "cell_type": "code",
   "execution_count": 5,
   "metadata": {},
   "outputs": [
    {
     "name": "stdout",
     "output_type": "stream",
     "text": [
      "Removed elements: [10, 9, 8, 7, 6, 5, 4]\n",
      "Final list: [1, 2, 3]\n"
     ]
    }
   ],
   "source": [
    "MAX_LENGTH = 3\n",
    "\n",
    "def shorten(lst):\n",
    "    if len(lst) > MAX_LENGTH:  \n",
    "        popped_elems = []\n",
    "        while len(lst) > MAX_LENGTH:  \n",
    "            elem = lst.pop(-1)  \n",
    "            popped_elems.append(elem)  \n",
    "        print(\"Removed elements:\", popped_elems)\n",
    "    else:\n",
    "        print(\"Your list is already short enough\")\n",
    "\n",
    "def main():\n",
    "    lst = [1, 2, 3, 4, 5, 6, 7, 8, 9, 10]\n",
    "    shorten(lst)\n",
    "    print(\"Final list:\", lst) \n",
    "\n",
    "if __name__ == '__main__':\n",
    "    main()\n"
   ]
  }
 ],
 "metadata": {
  "kernelspec": {
   "display_name": "Python 3",
   "language": "python",
   "name": "python3"
  },
  "language_info": {
   "codemirror_mode": {
    "name": "ipython",
    "version": 3
   },
   "file_extension": ".py",
   "mimetype": "text/x-python",
   "name": "python",
   "nbconvert_exporter": "python",
   "pygments_lexer": "ipython3",
   "version": "3.13.2"
  }
 },
 "nbformat": 4,
 "nbformat_minor": 2
}
