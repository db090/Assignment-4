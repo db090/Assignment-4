{
 "cells": [
  {
   "cell_type": "markdown",
   "metadata": {},
   "source": [
    "00_guess_my_number:"
   ]
  },
  {
   "cell_type": "code",
   "execution_count": null,
   "metadata": {},
   "outputs": [],
   "source": [
    "import random\n",
    "\n",
    "def main():\n",
    "    \n",
    "    secret_number = random.randint(0, 99)\n",
    "\n",
    "    print(\"I am thinking of a number between 0 and 99...\")\n",
    "\n",
    "    while guess != secret_number:\n",
    "        if guess < secret_number:\n",
    "            print(\"Your guess is too low\")\n",
    "        else:\n",
    "            print(\"Your guess is too high\")\n",
    "        \n",
    "       \n",
    "        guess = int(input(\"Enter a new number: \"))\n",
    "\n",
    "  \n",
    "    print(f\"Congrats! The number was: {secret_number}\")\n",
    "\n",
    "\n",
    "if __name__ == \"__main__\":\n",
    "    main()\n"
   ]
  },
  {
   "cell_type": "markdown",
   "metadata": {},
   "source": [
    "01_fibonacci:"
   ]
  },
  {
   "cell_type": "code",
   "execution_count": null,
   "metadata": {},
   "outputs": [
    {
     "name": "stdout",
     "output_type": "stream",
     "text": [
      "0 1 1 2 3 5 8 13 21 34 55 89 144 233 377 610 987 1597 2584 4181 6765 "
     ]
    }
   ],
   "source": [
    "\n",
    "MAX_VALUE = 10000\n",
    "\n",
    "def print_fibonacci_up_to_max():\n",
    "    a, b = 0, 1\n",
    "    while a < MAX_VALUE:\n",
    "        print(a, end=\" \") \n",
    "        a, b = b, a + b    \n",
    "\n",
    "print_fibonacci_up_to_max()\n"
   ]
  },
  {
   "cell_type": "markdown",
   "metadata": {},
   "source": [
    "02_print_events:"
   ]
  },
  {
   "cell_type": "code",
   "execution_count": 4,
   "metadata": {},
   "outputs": [
    {
     "name": "stdout",
     "output_type": "stream",
     "text": [
      "02468101214161820222426283032343638"
     ]
    }
   ],
   "source": [
    "def main():\n",
    "    for i in range(0,40,2):\n",
    "        print(i,end='')\n",
    "\n",
    "\n",
    "# This provided line is required at the end of\n",
    "# Python file to call the main() function.\n",
    "if __name__ == '__main__':\n",
    "    main()"
   ]
  },
  {
   "cell_type": "markdown",
   "metadata": {},
   "source": [
    "03_wholesome_machine:"
   ]
  },
  {
   "cell_type": "code",
   "execution_count": 5,
   "metadata": {},
   "outputs": [
    {
     "name": "stdout",
     "output_type": "stream",
     "text": [
      "Hmm that was not the affirmation. Please type the following affirmation: \n",
      "thats right\n"
     ]
    }
   ],
   "source": [
    "AFFIRMATION : str = \"I am capable of doing anything I put my mind to.\"\n",
    "def main():\n",
    "    while True:\n",
    "        user_input=input(\"please type the following affirmation:\")\n",
    "\n",
    "        if user_input == AFFIRMATION:\n",
    "            print(\"thats right\")\n",
    "            break\n",
    "        else:\n",
    "            print(\"Hmm that was not the affirmation. Please type the following affirmation: \")\n",
    "\n",
    "\n",
    "if __name__ == '__main__':\n",
    "    main()"
   ]
  },
  {
   "cell_type": "markdown",
   "metadata": {},
   "source": [
    "04_liftoff:"
   ]
  },
  {
   "cell_type": "code",
   "execution_count": 12,
   "metadata": {},
   "outputs": [
    {
     "name": "stdout",
     "output_type": "stream",
     "text": [
      "10\n",
      "9\n",
      "8\n",
      "7\n",
      "6\n",
      "5\n",
      "4\n",
      "3\n",
      "2\n",
      "1\n",
      "lift off\n"
     ]
    }
   ],
   "source": [
    "def main():\n",
    "    for i in range(10,0,-1):\n",
    "        print(i)\n",
    "    print(\"lift off\")\n",
    "\n",
    "\n",
    "# This provided line is required at the end of\n",
    "# Python file to call the main() function.\n",
    "if __name__ == '__main__':\n",
    "    main()"
   ]
  },
  {
   "cell_type": "markdown",
   "metadata": {},
   "source": [
    "05_double_it:"
   ]
  },
  {
   "cell_type": "code",
   "execution_count": 19,
   "metadata": {},
   "outputs": [
    {
     "name": "stdout",
     "output_type": "stream",
     "text": [
      "4\n",
      "8\n",
      "16\n",
      "32\n",
      "64\n",
      "128\n"
     ]
    }
   ],
   "source": [
    "def main():\n",
    "    user_input = int(input(\"Enter a number so we can double it!! \"))\n",
    "    \n",
    "    # Check if the number is greater than 100\n",
    "    while user_input < 100:\n",
    "        user_input*=2  \n",
    "        print(user_input)\n",
    "\n",
    "if __name__ == '__main__':\n",
    "    main()\n"
   ]
  },
  {
   "cell_type": "markdown",
   "metadata": {},
   "source": []
  }
 ],
 "metadata": {
  "kernelspec": {
   "display_name": "Python 3",
   "language": "python",
   "name": "python3"
  },
  "language_info": {
   "codemirror_mode": {
    "name": "ipython",
    "version": 3
   },
   "file_extension": ".py",
   "mimetype": "text/x-python",
   "name": "python",
   "nbconvert_exporter": "python",
   "pygments_lexer": "ipython3",
   "version": "3.13.2"
  }
 },
 "nbformat": 4,
 "nbformat_minor": 2
}
