{
 "cells": [
  {
   "cell_type": "markdown",
   "metadata": {},
   "source": [
    "00_averages:"
   ]
  },
  {
   "cell_type": "code",
   "execution_count": null,
   "metadata": {},
   "outputs": [],
   "source": [
    "def average(a: float, b: float):\n",
    "    \"\"\"\n",
    "    Returns the number which is half way between a and b\n",
    "    \"\"\"\n",
    "    sum = a + b\n",
    "    return sum / 2\n",
    "\n",
    "def main():\n",
    "    avg_1 = average(0, 10)\n",
    "    avg_2 = average(8, 10)\n",
    "    \n",
    "    final = average(avg_1, avg_2)\n",
    "    print(\"avg_1\", avg_1)\n",
    "    print(\"avg_2\", avg_2)\n",
    "    print(\"final\", final)\n",
    "    \n",
    "\n",
    "# There is no need to edit code beyond this point\n",
    "\n",
    "if __name__ == '__main__':\n",
    "    main()"
   ]
  },
  {
   "cell_type": "markdown",
   "metadata": {},
   "source": [
    "01_chaotic_counting:"
   ]
  },
  {
   "cell_type": "code",
   "execution_count": 1,
   "metadata": {},
   "outputs": [
    {
     "name": "stdout",
     "output_type": "stream",
     "text": [
      "I'm going to count until 10 or until I feel like stopping, whichever comes first.\n",
      "1\n",
      "2\n",
      "3\n",
      "4\n",
      "5\n",
      "6\n",
      "7\n",
      "I'm done\n"
     ]
    }
   ],
   "source": [
    "import random\n",
    "def chaotic_counting():\n",
    "    for i in range(10):\n",
    "        curr_num = i + 1\n",
    "        if done():\n",
    "            return # this ends the function execution, so we'll get back to the main() function!\n",
    "        print(curr_num)\n",
    "\n",
    "# There is no need to edit code beyond this point\n",
    "DONE_LIKELIHOOD=0.2\n",
    "\n",
    "def done():\n",
    "    \"\"\" Returns True with a probability of DONE_LIKELIHOOD \"\"\"\n",
    "    if random.random() < DONE_LIKELIHOOD:\n",
    "        return True\n",
    "    return False\n",
    "\n",
    "def main():\n",
    "    print(\"I'm going to count until 10 or until I feel like stopping, whichever comes first.\")\n",
    "    chaotic_counting()\n",
    "    print(\"I'm done\")\n",
    "\n",
    "if __name__ == \"__main__\":\n",
    "    main()"
   ]
  },
  {
   "cell_type": "markdown",
   "metadata": {},
   "source": [
    "02_count_even:"
   ]
  },
  {
   "cell_type": "code",
   "execution_count": 6,
   "metadata": {},
   "outputs": [
    {
     "name": "stdout",
     "output_type": "stream",
     "text": [
      "1\n"
     ]
    }
   ],
   "source": [
    "def count_even():\n",
    "    lst=[]\n",
    "    even_count=0\n",
    "    while True:\n",
    "        user_input=input(\"enter a number\")\n",
    "        if user_input == \"\":\n",
    "            break\n",
    "        number=int(user_input)\n",
    "        lst.append(number)\n",
    "    for number in lst:\n",
    "        if number % 2 ==0:\n",
    "            even_count+=1\n",
    "    print(even_count)\n",
    "\n",
    "count_even()"
   ]
  },
  {
   "cell_type": "markdown",
   "metadata": {},
   "source": [
    "04_double:"
   ]
  },
  {
   "cell_type": "code",
   "execution_count": 8,
   "metadata": {},
   "outputs": [
    {
     "name": "stdout",
     "output_type": "stream",
     "text": [
      "4\n"
     ]
    }
   ],
   "source": [
    "def double(num):\n",
    "    multiplied=num*2\n",
    "    return multiplied\n",
    "def main():\n",
    "    print(double(2))\n",
    "\n",
    "if __name__ == '__main__':\n",
    "    main()"
   ]
  },
  {
   "cell_type": "markdown",
   "metadata": {},
   "source": [
    "05_get_name:"
   ]
  },
  {
   "cell_type": "code",
   "execution_count": 9,
   "metadata": {},
   "outputs": [
    {
     "name": "stdout",
     "output_type": "stream",
     "text": [
      "Howdy daniyal!!\n"
     ]
    }
   ],
   "source": [
    "def get_name():\n",
    "    return \"daniyal\"\n",
    "def main():\n",
    "    name=get_name()\n",
    "    print(f\"Howdy {name}!!\")\n",
    "\n",
    "if __name__ == '__main__':\n",
    "    main()"
   ]
  },
  {
   "cell_type": "markdown",
   "metadata": {},
   "source": [
    "06_is_odd:"
   ]
  },
  {
   "cell_type": "code",
   "execution_count": 13,
   "metadata": {},
   "outputs": [
    {
     "name": "stdout",
     "output_type": "stream",
     "text": [
      "1 is odd\n",
      "2 is even\n",
      "3 is odd\n",
      "4 is even\n",
      "5 is odd\n",
      "6 is even\n",
      "7 is odd\n",
      "8 is even\n",
      "9 is odd\n"
     ]
    }
   ],
   "source": [
    "def is_odd(val:int):\n",
    "    remainder=val%2\n",
    "    return remainder == 1\n",
    "def main():\n",
    "    for i in range(1,10):\n",
    "        if is_odd(i):\n",
    "            print(f\"{i} is odd\")\n",
    "        else:\n",
    "            print(f\"{i} is even\")\n",
    "\n",
    "\n",
    "if __name__ == '__main__':\n",
    "    main()"
   ]
  },
  {
   "cell_type": "markdown",
   "metadata": {},
   "source": [
    "07_print_divisor:"
   ]
  },
  {
   "cell_type": "code",
   "execution_count": 16,
   "metadata": {},
   "outputs": [
    {
     "name": "stdout",
     "output_type": "stream",
     "text": [
      "here is the list of divisors of 8:\n",
      "[1, 2, 4, 8]\n"
     ]
    }
   ],
   "source": [
    "def print_divisor(num):\n",
    "    divisors=[]\n",
    "    for i in range(1,num+1):\n",
    "        if num % i ==0:\n",
    "            divisors.append(i)\n",
    "    return divisors\n",
    "\n",
    "def main():\n",
    "    num=int(input(\"enter a number so we can tell you its divisors\"))\n",
    "    divisors=print_divisor(num)\n",
    "    print(f\"here is the list of divisors of {num}:\\n{divisors}\")\n",
    "if __name__ == '__main__':\n",
    "    main()"
   ]
  },
  {
   "cell_type": "markdown",
   "metadata": {},
   "source": [
    "08_print_multiple:"
   ]
  },
  {
   "cell_type": "code",
   "execution_count": null,
   "metadata": {},
   "outputs": [
    {
     "name": "stdout",
     "output_type": "stream",
     "text": [
      "hello\n",
      "hello\n"
     ]
    }
   ],
   "source": [
    "def print_multiple(message:str,repeats:int):\n",
    "    for i in range(repeats):\n",
    "        print(message)\n",
    "\n",
    "def main():\n",
    "    message=input(\"enter a message so we can duplicate it for you!!\")\n",
    "    repeats=int(input(\"How many times would you like to repeat it??\"))\n",
    "    print_multiple(message,repeats)\n",
    "\n",
    "if __name__ == '__main__':\n",
    "    main()"
   ]
  },
  {
   "cell_type": "markdown",
   "metadata": {},
   "source": [
    "09_sentence_generator:"
   ]
  },
  {
   "cell_type": "code",
   "execution_count": 21,
   "metadata": {},
   "outputs": [
    {
     "name": "stdout",
     "output_type": "stream",
     "text": [
      "Looking out my window, the sky is big and gsga!\n"
     ]
    }
   ],
   "source": [
    "def make_sentence(word,part_of_speech):\n",
    "    if part_of_speech == 0:\n",
    "        print(f\"I am excited to add this {word} to my vast collection of them!\")\n",
    "    elif part_of_speech == 1:\n",
    "        print(f\"It's so nice outside today it makes me want to {word}!\")\n",
    "    elif part_of_speech == 2:\n",
    "        print(f\"Looking out my window, the sky is big and {word}!\")\n",
    "    else:\n",
    "        print(\"please enter an valid option\")\n",
    "\n",
    "def main():\n",
    "    word=input(\"please enter a word\")\n",
    "    part_of_speech=int(input(\"Is this a noun, verb, or adjective? Type 0 for noun, 1 for verb, 2 for adjective: 2\"))\n",
    "    make_sentence(word,part_of_speech)\n",
    "if __name__ == '__main__':\n",
    "    main()"
   ]
  },
  {
   "cell_type": "markdown",
   "metadata": {},
   "source": [
    "10_print_ones_digit:"
   ]
  },
  {
   "cell_type": "code",
   "execution_count": 22,
   "metadata": {},
   "outputs": [
    {
     "name": "stdout",
     "output_type": "stream",
     "text": [
      "the ones digit is 2 in 142\n"
     ]
    }
   ],
   "source": [
    "def print_ones_digit(number:int):\n",
    "    ones=number % 10\n",
    "    return f\"the ones digit is {ones} in {number}\"\n",
    "def main():\n",
    "    number=int(input(f\"enter a number so we can tell you its ones digit\"))\n",
    "    print(print_ones_digit(number))\n",
    "\n",
    "if __name__ == '__main__':\n",
    "    main()"
   ]
  }
 ],
 "metadata": {
  "kernelspec": {
   "display_name": "Python 3",
   "language": "python",
   "name": "python3"
  },
  "language_info": {
   "codemirror_mode": {
    "name": "ipython",
    "version": 3
   },
   "file_extension": ".py",
   "mimetype": "text/x-python",
   "name": "python",
   "nbconvert_exporter": "python",
   "pygments_lexer": "ipython3",
   "version": "3.13.2"
  }
 },
 "nbformat": 4,
 "nbformat_minor": 2
}
