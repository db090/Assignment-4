{
 "cells": [
  {
   "cell_type": "markdown",
   "metadata": {},
   "source": [
    "00_count_nums:"
   ]
  },
  {
   "cell_type": "code",
   "execution_count": 5,
   "metadata": {},
   "outputs": [
    {
     "name": "stdout",
     "output_type": "stream",
     "text": [
      "1 appears 1 times\n",
      "2 appears 7 times\n"
     ]
    }
   ],
   "source": [
    "def main():\n",
    "    numbers={}\n",
    "    while True:\n",
    "        number=input(\"enter a number :\")\n",
    "        if number == \"\":\n",
    "            break\n",
    "\n",
    "        number=int(number)\n",
    "\n",
    "        if number in numbers:\n",
    "            numbers[number]+=1\n",
    "        else:\n",
    "            numbers[number] = 1\n",
    "\n",
    "    for num,count in numbers.items():\n",
    "        print(f\"{num} appears {count} times\")\n",
    "\n",
    "\n",
    "if __name__ == '__main__':\n",
    "    main()"
   ]
  },
  {
   "cell_type": "markdown",
   "metadata": {},
   "source": [
    "01_phonebook:"
   ]
  },
  {
   "cell_type": "code",
   "execution_count": 6,
   "metadata": {},
   "outputs": [
    {
     "name": "stdout",
     "output_type": "stream",
     "text": [
      "mama->0330303\n",
      "0330303\n",
      "0330303\n"
     ]
    }
   ],
   "source": [
    "def read_phone_number():\n",
    "    \"\"\"\n",
    "    Ask the users for names/numbers to story in a phonebook (dictionary).\n",
    "    returns the phonebook\n",
    "    \"\"\"\n",
    "    phonebook={}\n",
    "\n",
    "    while True:\n",
    "        name=input(\"Name: \")\n",
    "        if name == \"\":\n",
    "            break\n",
    "        number=input(\"Number: \")\n",
    "        phonebook[name]=number\n",
    "\n",
    "    return phonebook\n",
    "\n",
    "def print_phonebook(phonebook):\n",
    "    \"\"\"\n",
    "    Prints out all the names/numbers in the phonebook\n",
    "    \"\"\"\n",
    "    for name in phonebook:\n",
    "        print(str(name)+ \"->\" +str(phonebook[name]))\n",
    "\n",
    "def lookup_numbers(phonebook):\n",
    "    \"\"\"\n",
    "    Allow the user to lookup phone numbers in the phonebook\n",
    "    by looking up the number associated with a name\n",
    "    \"\"\"\n",
    "    while True:\n",
    "        name=input(\"Enter name to lookup: \")\n",
    "        if name == \"\":\n",
    "            break\n",
    "        if name not in phonebook:\n",
    "            print(name+\"is not in the phonebook\")\n",
    "        else:\n",
    "            print(phonebook[name])\n",
    "\n",
    "def main():\n",
    "    phonekbook=read_phone_number()\n",
    "    print_phonebook(phonekbook)\n",
    "    lookup_numbers(phonekbook)\n",
    "\n",
    "if __name__ == '__main__':\n",
    "    main()"
   ]
  },
  {
   "cell_type": "markdown",
   "metadata": {},
   "source": [
    "02_pop_up_shop:"
   ]
  },
  {
   "cell_type": "code",
   "execution_count": 11,
   "metadata": {},
   "outputs": [
    {
     "name": "stdout",
     "output_type": "stream",
     "text": [
      "Total cost for apple:200\n",
      "total cost for every fruit will be 200 \n"
     ]
    }
   ],
   "source": [
    "def main():\n",
    "    fruits={\n",
    "        \"apple\":200,\n",
    "        \"durian\":300,\n",
    "        \"jackfruit\":400,\n",
    "        \"kiwi\":500,\n",
    "        \"rambutan\":600,\n",
    "        \"mango\":700\n",
    "    }\n",
    "    total=0\n",
    "    for fruit,price in fruits.items():\n",
    "        user_input=input(f\"how much {fruit} do you want?\")\n",
    "        if user_input == \"\":\n",
    "            break\n",
    "        try:\n",
    "            qty=int(user_input)\n",
    "            \n",
    "        except ValueError:\n",
    "            print(\"Invalid input! Please enter a valid number.\")\n",
    "            continue\n",
    "        fruit_cost=qty*price\n",
    "        print(f\"Total cost for {fruit}:{fruit_cost}\")\n",
    "        total+=qty*price\n",
    "    print(f\"total cost for every fruit will be {total} \")\n",
    "\n",
    "if __name__ == '__main__':\n",
    "    main()"
   ]
  },
  {
   "cell_type": "markdown",
   "metadata": {},
   "source": [
    "03_powerful_passwords:"
   ]
  },
  {
   "cell_type": "code",
   "execution_count": 7,
   "metadata": {},
   "outputs": [
    {
     "name": "stdout",
     "output_type": "stream",
     "text": [
      "False\n",
      "True\n",
      "False\n",
      "True\n",
      "False\n",
      "True\n"
     ]
    }
   ],
   "source": [
    "from hashlib import sha256\n",
    "def login(email,stored_logins,password_to_check):\n",
    "    \"\"\"\n",
    "    Returns true if the hash of the password we are checking matches the one in stored_logins\n",
    "    for a specific email. Otherwise returns False.\n",
    "\n",
    "    email:the email we are checking the pasword for \n",
    "    stored_logins: a dictionary pointing from an email to its hashed password\n",
    "    password_to_check: a password we want to test alongside the email to login with\n",
    "    \"\"\"\n",
    "    if stored_logins[email] == hash_password(password_to_check):\n",
    "        return True\n",
    "    return False\n",
    "\n",
    "def hash_password(password):\n",
    "    \"\"\"\n",
    "    Takes in a password and returns the SHA256 hashed value for that specific password.\n",
    "    Inputs:\n",
    "        password: the password we want \n",
    "    Outputs:\n",
    "        the hashed from of the input password\n",
    "    \"\"\"\n",
    "    return sha256(password.encode()).hexdigest()\n",
    "\n",
    "def main():\n",
    "    # stored_logins is a dictionary with emails as keys and hashed passwords as values\n",
    "    stored_logins = {\n",
    "        \"example@gmail.com\": \"5e884898da28047151d0e56f8dc6292773603d0d6aabbdd62a11ef721d1542d8\",\n",
    "        \"code_in_placer@cip.org\": \"973607a4ae7b4cf7d96a100b0fb07e8519cc4f70441d41214a9f811577bb06cc\",\n",
    "        \"student@stanford.edu\": \"882c6df720fd99f5eebb1581a1cf975625cea8a160283011c0b9512bb56c95fb\"\n",
    "    }\n",
    "    \n",
    "    print(login(\"example@gmail.com\", stored_logins, \"word\"))\n",
    "    print(login(\"example@gmail.com\", stored_logins, \"password\"))\n",
    "    \n",
    "    print(login(\"code_in_placer@cip.org\", stored_logins, \"Karel\"))\n",
    "    print(login(\"code_in_placer@cip.org\", stored_logins, \"karel\"))\n",
    "    \n",
    "    print(login(\"student@stanford.edu\", stored_logins, \"password\"))\n",
    "    print(login(\"student@stanford.edu\", stored_logins, \"123!456?789\"))\n",
    "\n",
    "\n",
    "if __name__ == '__main__':\n",
    "    main()"
   ]
  }
 ],
 "metadata": {
  "kernelspec": {
   "display_name": "Python 3",
   "language": "python",
   "name": "python3"
  },
  "language_info": {
   "codemirror_mode": {
    "name": "ipython",
    "version": 3
   },
   "file_extension": ".py",
   "mimetype": "text/x-python",
   "name": "python",
   "nbconvert_exporter": "python",
   "pygments_lexer": "ipython3",
   "version": "3.13.2"
  }
 },
 "nbformat": 4,
 "nbformat_minor": 2
}
