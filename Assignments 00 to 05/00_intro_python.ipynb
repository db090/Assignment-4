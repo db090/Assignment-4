{
 "cells": [
  {
   "cell_type": "markdown",
   "metadata": {},
   "source": [
    "01_add_two_numbers:"
   ]
  },
  {
   "cell_type": "code",
   "execution_count": 1,
   "metadata": {},
   "outputs": [
    {
     "name": "stdout",
     "output_type": "stream",
     "text": [
      "the sum of 2 and 2 will be 4\n"
     ]
    }
   ],
   "source": [
    "num1=int(input(\"enter first number\"))\n",
    "num2=int(input(\"enter second number\"))\n",
    "print(f\"the sum of {num1} and {num2} will be {num1 + num2}\")"
   ]
  },
  {
   "cell_type": "markdown",
   "metadata": {},
   "source": [
    "02_agreement_bot:"
   ]
  },
  {
   "cell_type": "code",
   "execution_count": 2,
   "metadata": {},
   "outputs": [
    {
     "name": "stdout",
     "output_type": "stream",
     "text": [
      "oh!! my favourite animal is also dog\n"
     ]
    }
   ],
   "source": [
    "fvrt_animal=input(\"enter your favourite animal\")\n",
    "print(f\"oh!! my favourite animal is also {fvrt_animal}\")"
   ]
  },
  {
   "cell_type": "markdown",
   "metadata": {},
   "source": [
    "03_Fahrenheit_to_celsius:"
   ]
  },
  {
   "cell_type": "code",
   "execution_count": 4,
   "metadata": {},
   "outputs": [
    {
     "name": "stdout",
     "output_type": "stream",
     "text": [
      "Temperature:76.0F=24.444444444444443C\n"
     ]
    }
   ],
   "source": [
    "temp_in_f=float(input(\"enter temperature in farenheit\"))\n",
    "temp_in_c=(temp_in_f-32)*5.0/9.0\n",
    "print(f\"Temperature:{temp_in_f}F={temp_in_c}C\")"
   ]
  },
  {
   "cell_type": "markdown",
   "metadata": {},
   "source": [
    "04_how_old_are_they:"
   ]
  },
  {
   "cell_type": "code",
   "execution_count": 5,
   "metadata": {},
   "outputs": [
    {
     "name": "stdout",
     "output_type": "stream",
     "text": [
      "Anton is 21\n",
      "Beth is 27\n",
      "Chen is 47\n",
      "Drew is 68\n",
      "Ethan is 47\n"
     ]
    }
   ],
   "source": [
    "\n",
    "Anton: int = 21\n",
    "Beth: int = Anton + 6\n",
    "Chen: int = Beth + 20\n",
    "Drew: int = Chen + Anton\n",
    "Ethan: int = Chen\n",
    "\n",
    "print(f\"Anton is {Anton}\")\n",
    "print(f\"Beth is {Beth}\")\n",
    "print(f\"Chen is {Chen}\")\n",
    "print(f\"Drew is {Drew}\")\n",
    "print(f\"Ethan is {Ethan}\")\n"
   ]
  },
  {
   "cell_type": "markdown",
   "metadata": {},
   "source": [
    "05_triangle_perimeter:"
   ]
  },
  {
   "cell_type": "code",
   "execution_count": 7,
   "metadata": {},
   "outputs": [
    {
     "name": "stdout",
     "output_type": "stream",
     "text": [
      "The perimeter of the triangle is 12.5\n"
     ]
    }
   ],
   "source": [
    "side1=float(input(\"What is the length of side 1 ?\"))\n",
    "side2=float(input(\"What is the length of side 2 ?\"))\n",
    "side3=float(input(\"What is the length of side 3 ?\"))\n",
    "print(f\"The perimeter of the triangle is {side1+side2+side3}\")"
   ]
  },
  {
   "cell_type": "markdown",
   "metadata": {},
   "source": [
    "06_square_number:"
   ]
  },
  {
   "cell_type": "code",
   "execution_count": 10,
   "metadata": {},
   "outputs": [
    {
     "name": "stdout",
     "output_type": "stream",
     "text": [
      "the square of 4.0 will be 16.0\n"
     ]
    }
   ],
   "source": [
    "num=float(input(\"enter a number\"))\n",
    "print(f\"the square of {num} will be {num**2}\")"
   ]
  }
 ],
 "metadata": {
  "kernelspec": {
   "display_name": "Python 3",
   "language": "python",
   "name": "python3"
  },
  "language_info": {
   "codemirror_mode": {
    "name": "ipython",
    "version": 3
   },
   "file_extension": ".py",
   "mimetype": "text/x-python",
   "name": "python",
   "nbconvert_exporter": "python",
   "pygments_lexer": "ipython3",
   "version": "3.13.2"
  }
 },
 "nbformat": 4,
 "nbformat_minor": 2
}
