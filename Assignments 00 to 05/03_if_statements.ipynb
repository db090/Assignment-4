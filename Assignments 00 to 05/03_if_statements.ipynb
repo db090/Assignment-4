{
 "cells": [
  {
   "cell_type": "markdown",
   "metadata": {},
   "source": [
    "01_print_events:"
   ]
  },
  {
   "cell_type": "code",
   "execution_count": null,
   "metadata": {},
   "outputs": [
    {
     "name": "stdout",
     "output_type": "stream",
     "text": [
      "[0, 2, 4, 6, 8, 10, 12, 14, 16, 18, 20, 22, 24, 26, 28, 30, 32, 34, 36, 38]\n"
     ]
    }
   ],
   "source": [
    "def main():\n",
    "    even_numbers = [i for i in range(0, 40, 2)]\n",
    "    print(even_numbers)\n",
    "\n",
    "if __name__ == '__main__':\n",
    "    main()\n"
   ]
  },
  {
   "cell_type": "markdown",
   "metadata": {},
   "source": [
    "02_international_voting_age:"
   ]
  },
  {
   "cell_type": "code",
   "execution_count": null,
   "metadata": {},
   "outputs": [
    {
     "name": "stdout",
     "output_type": "stream",
     "text": [
      "You can vote in Peturksbouipo wehre the voting age is 16.\n",
      "You cant vote in Stanlau where the voting age is 25.\n",
      "You cant vote in Mayengua where the voting age is 48.\n"
     ]
    }
   ],
   "source": [
    "def main():\n",
    "    voting_ages={\n",
    "        \"Peturksbouipo\":16,\n",
    "        \"Stanlau\":25,\n",
    "        \"Mayengua\":48,\n",
    "    }\n",
    "    age:int=int(input(\"enter your age\"))\n",
    "    if age < 16:\n",
    "        print(\"you cannot vote in any country. Grow up\")\n",
    "    else:\n",
    "        for country,min_age in voting_ages.items():\n",
    "            if age >= min_age:\n",
    "                print(f\"You can vote in {country} where the voting age is {min_age}.\")\n",
    "            else:\n",
    "                print(f\"You cant vote in {country} where the voting age is {min_age}.\")\n",
    "\n",
    "\n",
    "\n",
    "if __name__ == '__main__':\n",
    "    main()"
   ]
  },
  {
   "cell_type": "markdown",
   "metadata": {},
   "source": [
    "03_leap_year:"
   ]
  },
  {
   "cell_type": "code",
   "execution_count": 9,
   "metadata": {},
   "outputs": [
    {
     "name": "stdout",
     "output_type": "stream",
     "text": [
      "Thats a leap year\n"
     ]
    }
   ],
   "source": [
    "def main():\n",
    "    year:int=int(input(\"enter a year so we can check if its a leap year or not\"))\n",
    "    if year % 4 == 0:\n",
    "        print(\"Thats a leap year\")\n",
    "    elif year % 100 ==0:\n",
    "        if year % 400 ==0:\n",
    "            print(\"Thats a leap year\")\n",
    "    else:\n",
    "        print(\"that aint leap year\")\n",
    "\n",
    "if __name__ == '__main__':\n",
    "    main()"
   ]
  },
  {
   "cell_type": "markdown",
   "metadata": {},
   "source": [
    "04_tall_enough_to_ride:"
   ]
  },
  {
   "cell_type": "code",
   "execution_count": 10,
   "metadata": {},
   "outputs": [
    {
     "name": "stdout",
     "output_type": "stream",
     "text": [
      "you are tall enough to ride\n"
     ]
    }
   ],
   "source": [
    "MINIMUM_HEIGHT:float=4.0\n",
    "def main():\n",
    "    height:int=float(input(\"enter your age :\"))\n",
    "    if height >= MINIMUM_HEIGHT:\n",
    "        print(\"you are tall enough to ride\")\n",
    "    else:\n",
    "        print(\"you are not tall enough to ride\")\n",
    "\n",
    "\n",
    "\n",
    "\n",
    "if __name__ == '__main__':\n",
    "    main()"
   ]
  },
  {
   "cell_type": "markdown",
   "metadata": {},
   "source": [
    "05_random_numbers:"
   ]
  },
  {
   "cell_type": "code",
   "execution_count": 14,
   "metadata": {},
   "outputs": [
    {
     "name": "stdout",
     "output_type": "stream",
     "text": [
      "58\n",
      "10\n",
      "3\n",
      "2\n",
      "16\n",
      "52\n",
      "32\n",
      "75\n",
      "42\n"
     ]
    }
   ],
   "source": [
    "import random\n",
    "\n",
    "def main():\n",
    "    for _ in range(1,10):\n",
    "        print(random.randint(1,100))\n",
    "\n",
    "if __name__ == '__main__':\n",
    "    main()"
   ]
  }
 ],
 "metadata": {
  "kernelspec": {
   "display_name": "Python 3",
   "language": "python",
   "name": "python3"
  },
  "language_info": {
   "codemirror_mode": {
    "name": "ipython",
    "version": 3
   },
   "file_extension": ".py",
   "mimetype": "text/x-python",
   "name": "python",
   "nbconvert_exporter": "python",
   "pygments_lexer": "ipython3",
   "version": "3.13.2"
  }
 },
 "nbformat": 4,
 "nbformat_minor": 2
}
