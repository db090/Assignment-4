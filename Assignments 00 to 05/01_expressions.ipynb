{
 "cells": [
  {
   "cell_type": "markdown",
   "metadata": {},
   "source": [
    "01_dicesimulator:"
   ]
  },
  {
   "cell_type": "code",
   "execution_count": 1,
   "metadata": {},
   "outputs": [
    {
     "name": "stdout",
     "output_type": "stream",
     "text": [
      "dice1 in main() starts as1\n",
      "total of two dice: 6\n",
      "total of two dice: 10\n",
      "total of two dice: 12\n",
      "dice1 in main() is1\n"
     ]
    }
   ],
   "source": [
    "import random\n",
    "NUM_SIDES=6\n",
    "def roll_dice():\n",
    "    dice1:int=random.randint(1,NUM_SIDES)\n",
    "    dice2:int=random.randint(2,NUM_SIDES)\n",
    "    total:int=dice1+dice1\n",
    "    print(f\"total of two dice:\",total)\n",
    "\n",
    "def main():\n",
    "    dice1:int=1\n",
    "    print(\"dice1 in main() starts as\"+str(dice1))\n",
    "    roll_dice()\n",
    "    roll_dice()\n",
    "    roll_dice()\n",
    "    print(\"dice1 in main() is\"+str(dice1))\n",
    "\n",
    "if __name__ == '__main__':\n",
    "    main()"
   ]
  },
  {
   "cell_type": "markdown",
   "metadata": {},
   "source": [
    "02_e=mc2:"
   ]
  },
  {
   "cell_type": "code",
   "execution_count": 9,
   "metadata": {},
   "outputs": [
    {
     "name": "stdout",
     "output_type": "stream",
     "text": [
      "8.987551787368176e+18 joules of energy\n"
     ]
    }
   ],
   "source": [
    "def main():\n",
    "    mass=float(input(\"enter mass in kilos\"))\n",
    "    equvlnt_enrgy=mass*299792458**2\n",
    "    print(str(equvlnt_enrgy)+\" \"+ \"joules of energy\")\n",
    "\n",
    "if __name__ == '__main__':\n",
    "    main()"
   ]
  },
  {
   "cell_type": "markdown",
   "metadata": {},
   "source": [
    "03_feet_to_inches:"
   ]
  },
  {
   "cell_type": "code",
   "execution_count": 10,
   "metadata": {},
   "outputs": [
    {
     "name": "stdout",
     "output_type": "stream",
     "text": [
      "12.0 Feet will be 144.0 inches!\n"
     ]
    }
   ],
   "source": [
    "INCHES_IN_FOOT:int=12\n",
    "def main():\n",
    "    feet: float = float(input(\"Enter feets: \"))  # Get the number of feet, make sure to cast it to a float!\n",
    "    inches: float = feet * INCHES_IN_FOOT  # Perform the conversion\n",
    "    print(f\"{feet} Feet will be {inches} inches!\")\n",
    "\n",
    "if __name__ == '__main__':\n",
    "    main()"
   ]
  },
  {
   "cell_type": "markdown",
   "metadata": {},
   "source": [
    "04_pythagorean_theorem:"
   ]
  },
  {
   "cell_type": "code",
   "execution_count": 13,
   "metadata": {},
   "outputs": [
    {
     "name": "stdout",
     "output_type": "stream",
     "text": [
      "The hypotenuse (BC) is: 5.0\n"
     ]
    }
   ],
   "source": [
    "import math\n",
    "def main():\n",
    "    ab:float=float(input(\"enter first perpendicular side of triangle: \"))\n",
    "    ac:float=float(input(\"enter second perpendicular side of triangle: \"))\n",
    "    bc: float = math.sqrt(ab**2 + ac**2)  \n",
    "    print(f\"The hypotenuse (BC) is: {bc}\")\n",
    "\n",
    "if __name__ == '__main__':\n",
    "    main()"
   ]
  },
  {
   "cell_type": "markdown",
   "metadata": {},
   "source": [
    "05_remainder_division:\n"
   ]
  },
  {
   "cell_type": "code",
   "execution_count": 17,
   "metadata": {},
   "outputs": [
    {
     "name": "stdout",
     "output_type": "stream",
     "text": [
      "the result of dividing the first number by second number will be 1 and the remainder of the division will be 2\n"
     ]
    }
   ],
   "source": [
    "def main():\n",
    "    num1=int(input(\"enter first number:\"))\n",
    "    num2=int(input(\"enter second number:\"))\n",
    "    print(f\"the result of dividing the first number by second number will be {num1//num2} and the remainder of the division will be {num1%num2}\")\n",
    "\n",
    "if __name__ == '__main__':\n",
    "    main()"
   ]
  },
  {
   "cell_type": "markdown",
   "metadata": {},
   "source": [
    "06_rolldice:"
   ]
  },
  {
   "cell_type": "code",
   "execution_count": null,
   "metadata": {},
   "outputs": [],
   "source": [
    "import random\n",
    "\n",
    "def roll_dice():\n",
    "    die1 = random.randint(1, 6)  \n",
    "    die2 = random.randint(1, 6)  \n",
    "    total = die1 + die2 \n",
    "    \n",
    "    print(f\"Die 1: {die1}, Die 2: {die2}\")\n",
    "    print(f\"Total: {total}\")\n",
    "\n",
    "roll_dice()\n"
   ]
  },
  {
   "cell_type": "markdown",
   "metadata": {},
   "source": [
    "06_seconds_in_year:"
   ]
  },
  {
   "cell_type": "code",
   "execution_count": 21,
   "metadata": {},
   "outputs": [
    {
     "name": "stdout",
     "output_type": "stream",
     "text": [
      "31536000 seconds in a day!! its alot if you think it about like that. right?\n"
     ]
    }
   ],
   "source": [
    "DAYS_IN_YEAR=365\n",
    "HOURS_IN_DAY=24\n",
    "MINUTES_IN_HOUR=60\n",
    "SECONDS_PER_MINUTE=60\n",
    "\n",
    "def main():\n",
    "    seconds_in_an_year=DAYS_IN_YEAR*HOURS_IN_DAY*MINUTES_IN_HOUR*SECONDS_PER_MINUTE\n",
    "    print(f\"{seconds_in_an_year} seconds in a day!! its alot if you think it about like that. right?\")\n",
    "\n",
    "if __name__ == '__main__':\n",
    "    main()\n",
    "\n"
   ]
  },
  {
   "cell_type": "markdown",
   "metadata": {},
   "source": [
    "07_tiny_mad_lib:"
   ]
  },
  {
   "cell_type": "code",
   "execution_count": 7,
   "metadata": {},
   "outputs": [
    {
     "name": "stdout",
     "output_type": "stream",
     "text": [
      "One day, a(n) tiny plant decided to fly through the enchanted forest!\n"
     ]
    }
   ],
   "source": [
    "import random\n",
    "\n",
    "def main():\n",
    "    adjective = input(\"Please enter an adjective (e.g., big, happy, scary): \")\n",
    "    noun = input(\"Please enter a noun (e.g., cat, dragon, robot): \")\n",
    "    verb = input(\"Please enter a verb (e.g., run, jump, dance): \")\n",
    "\n",
    "\n",
    "    themes = [\n",
    "        \"One day, a(n) [adjective] [noun] decided to [verb] through the enchanted forest!\",\n",
    "        \"The [adjective] [noun] suddenly started to [verb] at the speed of light!\",\n",
    "        \"I saw a [adjective] [noun] trying to [verb] on a skateboard!\"\n",
    "    ]\n",
    "\n",
    "   \n",
    "    story = random.choice(themes)\n",
    "    story = story.replace(\"[adjective]\", adjective).replace(\"[noun]\", noun).replace(\"[verb]\", verb)\n",
    "\n",
    "    print(story)\n",
    "\n",
    "if __name__ == \"__main__\":\n",
    "    main()\n",
    "\n"
   ]
  }
 ],
 "metadata": {
  "kernelspec": {
   "display_name": "Python 3",
   "language": "python",
   "name": "python3"
  },
  "language_info": {
   "codemirror_mode": {
    "name": "ipython",
    "version": 3
   },
   "file_extension": ".py",
   "mimetype": "text/x-python",
   "name": "python",
   "nbconvert_exporter": "python",
   "pygments_lexer": "ipython3",
   "version": "3.13.2"
  }
 },
 "nbformat": 4,
 "nbformat_minor": 2
}
