{
 "cells": [
  {
   "cell_type": "markdown",
   "id": "87f3ee91",
   "metadata": {},
   "source": [
    "19. callable() and __call__()\n",
    "\n",
    "Assignment:\n",
    "\n",
    "Create a class Multiplier with an __init__() to set a factor. Define a __call__() method that multiplies an input by the factor. Test it with callable() and by calling the object like a function."
   ]
  },
  {
   "cell_type": "code",
   "execution_count": 3,
   "id": "86b50099",
   "metadata": {},
   "outputs": [
    {
     "name": "stdout",
     "output_type": "stream",
     "text": [
      "20.0\n"
     ]
    }
   ],
   "source": [
    "class Multiplier:\n",
    "    def __init__(self,factor):\n",
    "        self.factor=factor\n",
    "\n",
    "    def __call__(self,x):\n",
    "        return x * self.factor\n",
    "\n",
    "double=Multiplier(2)\n",
    "print(double(10.0))"
   ]
  }
 ],
 "metadata": {
  "kernelspec": {
   "display_name": "Python 3",
   "language": "python",
   "name": "python3"
  },
  "language_info": {
   "codemirror_mode": {
    "name": "ipython",
    "version": 3
   },
   "file_extension": ".py",
   "mimetype": "text/x-python",
   "name": "python",
   "nbconvert_exporter": "python",
   "pygments_lexer": "ipython3",
   "version": "3.13.2"
  }
 },
 "nbformat": 4,
 "nbformat_minor": 5
}
