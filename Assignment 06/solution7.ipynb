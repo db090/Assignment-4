{
 "cells": [
  {
   "cell_type": "markdown",
   "id": "99b83b5e",
   "metadata": {},
   "source": [
    "7. Access Modifiers: Public, Private, and Protected\n",
    "\n",
    "Assignment:\n",
    "\n",
    "Create a class Employee with:\n",
    "\n",
    "a public variable name,\n",
    "\n",
    "a protected variable _salary, and\n",
    "\n",
    "a private variable __ssn.\n",
    "\n",
    "Try accessing all three variables from an object of the class and document what happens."
   ]
  },
  {
   "cell_type": "code",
   "execution_count": null,
   "id": "8e167f7c",
   "metadata": {},
   "outputs": [
    {
     "name": "stdout",
     "output_type": "stream",
     "text": [
      "Ali\n",
      "50000\n",
      "123-45-6789\n"
     ]
    }
   ],
   "source": [
    "class Employee:\n",
    "    def __init__(self,name:str,salary:int,ssn:str):\n",
    "        self.name=name\n",
    "        self._salary=salary\n",
    "        self.__ssn=ssn\n",
    "        \n",
    "emp = Employee(\"Ali\", 50000, \"123-45-6789\")\n",
    "\n",
    "# Access public variable\n",
    "print(emp.name)       # ✅ Works fine\n",
    "\n",
    "# Access protected variable\n",
    "print(emp._salary)    # ⚠️ Works, but not recommended (by convention)\n",
    "\n",
    "# Access private variable\n",
    "print(emp.__ssn)      # ❌ Fails: AttributeError\n",
    "\n",
    "#Python name-mangles private variables. Internally, __ssn becomes _Employee__ssn.\n",
    "\n",
    "#So if you really want to access it (not recommended unless necessary), you'd do:\n",
    "print(emp._Employee__ssn)  # ✅ Works\n",
    "\n",
    "\n",
    "\n"
   ]
  }
 ],
 "metadata": {
  "kernelspec": {
   "display_name": "Python 3",
   "language": "python",
   "name": "python3"
  },
  "language_info": {
   "codemirror_mode": {
    "name": "ipython",
    "version": 3
   },
   "file_extension": ".py",
   "mimetype": "text/x-python",
   "name": "python",
   "nbconvert_exporter": "python",
   "pygments_lexer": "ipython3",
   "version": "3.13.2"
  }
 },
 "nbformat": 4,
 "nbformat_minor": 5
}
