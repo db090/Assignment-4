{
 "cells": [
  {
   "cell_type": "markdown",
   "id": "7031b11b",
   "metadata": {},
   "source": [
    "20. Creating a Custom Exception\n",
    "\n",
    "Assignment:\n",
    "\n",
    "Create a custom exception InvalidAgeError. Write a function check_age(age) that raises this exception if age < 18. Handle it with try...except."
   ]
  },
  {
   "cell_type": "code",
   "execution_count": 2,
   "id": "bf78d51d",
   "metadata": {},
   "outputs": [
    {
     "name": "stdout",
     "output_type": "stream",
     "text": [
      "Error: Age mus be at least 18\n"
     ]
    }
   ],
   "source": [
    "class InvalidAgeError(Exception):\n",
    "    def __init__(self,message=\"Age mus be at least 18\"):\n",
    "        super().__init__(message)\n",
    "\n",
    "def check_age(age:int)->None:\n",
    "    if age < 18:\n",
    "        raise InvalidAgeError()\n",
    "    print(\"Age is valid!\")\n",
    "\n",
    "try:\n",
    "    user_age=int(input(\"Enter your age:\"))\n",
    "    check_age(user_age)\n",
    "except InvalidAgeError as e:\n",
    "    print(f\"Error: {e}\")"
   ]
  },
  {
   "cell_type": "code",
   "execution_count": null,
   "id": "bf7acd34",
   "metadata": {},
   "outputs": [
    {
     "name": "stdout",
     "output_type": "stream",
     "text": [
      "64\n"
     ]
    },
    {
     "ename": "",
     "evalue": "",
     "output_type": "error",
     "traceback": [
      "\u001b[1;31mThe Kernel crashed while executing code in the current cell or a previous cell. \n",
      "\u001b[1;31mPlease review the code in the cell(s) to identify a possible cause of the failure. \n",
      "\u001b[1;31mClick <a href='https://aka.ms/vscodeJupyterKernelCrash'>here</a> for more info. \n",
      "\u001b[1;31mView Jupyter <a href='command:jupyter.viewOutput'>log</a> for further details."
     ]
    }
   ],
   "source": [
    "print(2**6)"
   ]
  }
 ],
 "metadata": {
  "kernelspec": {
   "display_name": "Python 3",
   "language": "python",
   "name": "python3"
  },
  "language_info": {
   "codemirror_mode": {
    "name": "ipython",
    "version": 3
   },
   "file_extension": ".py",
   "mimetype": "text/x-python",
   "name": "python",
   "nbconvert_exporter": "python",
   "pygments_lexer": "ipython3",
   "version": "3.13.2"
  }
 },
 "nbformat": 4,
 "nbformat_minor": 5
}
