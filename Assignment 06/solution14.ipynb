{
 "cells": [
  {
   "cell_type": "markdown",
   "id": "fba24b0b",
   "metadata": {},
   "source": [
    "14. Aggregation\n",
    "\n",
    "Assignment:\n",
    "\n",
    "Create a class Department and a class Employee. Use aggregation by having a Department object store a reference to an Employee object that exists independently of it."
   ]
  },
  {
   "cell_type": "code",
   "execution_count": null,
   "id": "730f4b81",
   "metadata": {},
   "outputs": [
    {
     "name": "stdout",
     "output_type": "stream",
     "text": [
      "Daniyal works in Production department\n"
     ]
    },
    {
     "ename": "",
     "evalue": "",
     "output_type": "error",
     "traceback": [
      "\u001b[1;31mThe Kernel crashed while executing code in the current cell or a previous cell. \n",
      "\u001b[1;31mPlease review the code in the cell(s) to identify a possible cause of the failure. \n",
      "\u001b[1;31mClick <a href='https://aka.ms/vscodeJupyterKernelCrash'>here</a> for more info. \n",
      "\u001b[1;31mView Jupyter <a href='command:jupyter.viewOutput'>log</a> for further details."
     ]
    }
   ],
   "source": [
    "class Department:\n",
    "    def __init__(self,name:str):\n",
    "        self.name=name\n",
    "\n",
    "class Employee:\n",
    "    def __init__(self,name:str,department:Department):\n",
    "        self.name=name\n",
    "        self.department=department\n",
    "\n",
    "    def show(self):\n",
    "        print(f\"{self.name} works in {self.department.name} department\")\n",
    "\n",
    "production_dept=Department(\"Production\")\n",
    "\n",
    "employee1=Employee(\"Daniyal\",production_dept)\n",
    "\n",
    "employee1.show()"
   ]
  }
 ],
 "metadata": {
  "kernelspec": {
   "display_name": "Python 3",
   "language": "python",
   "name": "python3"
  },
  "language_info": {
   "codemirror_mode": {
    "name": "ipython",
    "version": 3
   },
   "file_extension": ".py",
   "mimetype": "text/x-python",
   "name": "python",
   "nbconvert_exporter": "python",
   "pygments_lexer": "ipython3",
   "version": "3.13.2"
  }
 },
 "nbformat": 4,
 "nbformat_minor": 5
}
