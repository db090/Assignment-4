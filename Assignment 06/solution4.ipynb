{
 "cells": [
  {
   "cell_type": "markdown",
   "id": "42cf41f5",
   "metadata": {},
   "source": [
    "4.Class Variables and Class Methods\n",
    "\n",
    "Assignment:\n",
    "\n",
    "Create a class Bank with a class variable bank_name. Add a class method change_bank_name(cls, name) that allows changing the bank name. Show that it affects all instances."
   ]
  },
  {
   "cell_type": "code",
   "execution_count": 7,
   "id": "29e69e07",
   "metadata": {},
   "outputs": [
    {
     "name": "stdout",
     "output_type": "stream",
     "text": [
      "Bank Al Habib\n",
      "Bank Al Habib\n",
      "Bank Al Habib\n"
     ]
    }
   ],
   "source": [
    "class Bank:\n",
    "    bank_name: str = \"HBL\"  # Class variable\n",
    "\n",
    "    @classmethod\n",
    "    def change_bank_name(cls, new_name: str):\n",
    "        cls.bank_name = new_name  # Changing class variable\n",
    "\n",
    "# Create instances\n",
    "bank1 = Bank()\n",
    "bank1.change_bank_name(\"Bank Al Habib\")  # Change class variable using class method\n",
    "bank2 = Bank()\n",
    "bank3 = Bank()\n",
    "\n",
    "# All instances reflect the updated name\n",
    "print(bank1.bank_name)  # Output: Bank Al Habib\n",
    "print(bank2.bank_name)  # Output: Bank Al Habib\n",
    "print(bank3.bank_name)  # Output: Bank Al Habib\n"
   ]
  }
 ],
 "metadata": {
  "kernelspec": {
   "display_name": "Python 3",
   "language": "python",
   "name": "python3"
  },
  "language_info": {
   "codemirror_mode": {
    "name": "ipython",
    "version": 3
   },
   "file_extension": ".py",
   "mimetype": "text/x-python",
   "name": "python",
   "nbconvert_exporter": "python",
   "pygments_lexer": "ipython3",
   "version": "3.13.2"
  }
 },
 "nbformat": 4,
 "nbformat_minor": 5
}
