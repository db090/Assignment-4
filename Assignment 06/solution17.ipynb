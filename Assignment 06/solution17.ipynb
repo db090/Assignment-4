{
 "cells": [
  {
   "cell_type": "markdown",
   "id": "bbd21c3a",
   "metadata": {},
   "source": [
    "17. Class Decorators\n",
    "\n",
    "Assignment:\n",
    "\n",
    "Create a class decorator add_greeting that modifies a class to add a greet() method returning \"Hello from Decorator!\". Apply it to a class Person."
   ]
  },
  {
   "cell_type": "code",
   "execution_count": null,
   "id": "86bf9557",
   "metadata": {},
   "outputs": [
    {
     "name": "stdout",
     "output_type": "stream",
     "text": [
      "Hello from Decorator!\n"
     ]
    },
    {
     "ename": "",
     "evalue": "",
     "output_type": "error",
     "traceback": [
      "\u001b[1;31mThe Kernel crashed while executing code in the current cell or a previous cell. \n",
      "\u001b[1;31mPlease review the code in the cell(s) to identify a possible cause of the failure. \n",
      "\u001b[1;31mClick <a href='https://aka.ms/vscodeJupyterKernelCrash'>here</a> for more info. \n",
      "\u001b[1;31mView Jupyter <a href='command:jupyter.viewOutput'>log</a> for further details."
     ]
    }
   ],
   "source": [
    "def add_greeting(cls):\n",
    "    def greet(self):\n",
    "        return \"Hello from Decorator!\"\n",
    "    cls.greet=greet\n",
    "    return cls\n",
    "\n",
    "@add_greeting\n",
    "class Person:\n",
    "    def __init__(self,name):\n",
    "        self.name=name\n",
    "\n",
    "p=Person(\"Daniyal\")\n",
    "print(p.greet())"
   ]
  }
 ],
 "metadata": {
  "kernelspec": {
   "display_name": "Python 3",
   "language": "python",
   "name": "python3"
  },
  "language_info": {
   "codemirror_mode": {
    "name": "ipython",
    "version": 3
   },
   "file_extension": ".py",
   "mimetype": "text/x-python",
   "name": "python",
   "nbconvert_exporter": "python",
   "pygments_lexer": "ipython3",
   "version": "3.13.2"
  }
 },
 "nbformat": 4,
 "nbformat_minor": 5
}
