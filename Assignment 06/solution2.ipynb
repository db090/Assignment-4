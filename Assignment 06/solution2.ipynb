{
 "cells": [
  {
   "cell_type": "markdown",
   "id": "aad1e4a5",
   "metadata": {},
   "source": [
    "2.Using cls\n",
    "\n",
    "Assignment:\n",
    "\n",
    "Create a class Counter that keeps track of how many objects have been created. Use a class variable and a class method with cls to manage and display the count."
   ]
  },
  {
   "cell_type": "code",
   "execution_count": null,
   "id": "b7666c92",
   "metadata": {},
   "outputs": [
    {
     "name": "stdout",
     "output_type": "stream",
     "text": [
      "Total objects created:2\n"
     ]
    }
   ],
   "source": [
    "class Counter:\n",
    "    count:int=0\n",
    "\n",
    "    def __init__(self):\n",
    "        Counter.count+=1\n",
    "\n",
    "    @classmethod\n",
    "    def display_count(cls)->None:\n",
    "        print(f\"Total objects created:{cls.count}\")\n",
    "\n",
    "#Example usage\n",
    "obj1=Counter()\n",
    "obj2=Counter()\n",
    "Counter.display_count()"
   ]
  }
 ],
 "metadata": {
  "kernelspec": {
   "display_name": "Python 3",
   "language": "python",
   "name": "python3"
  },
  "language_info": {
   "codemirror_mode": {
    "name": "ipython",
    "version": 3
   },
   "file_extension": ".py",
   "mimetype": "text/x-python",
   "name": "python",
   "nbconvert_exporter": "python",
   "pygments_lexer": "ipython3",
   "version": "3.13.2"
  }
 },
 "nbformat": 4,
 "nbformat_minor": 5
}
