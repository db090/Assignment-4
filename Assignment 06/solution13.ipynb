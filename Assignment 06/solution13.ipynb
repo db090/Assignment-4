{
 "cells": [
  {
   "cell_type": "markdown",
   "id": "f4d2b45f",
   "metadata": {},
   "source": [
    "13. Composition\n",
    "\n",
    "Assignment:\n",
    "\n",
    "Create a class Engine and a class Car. Use composition by passing an Engine object to the Car class during initialization. Access a method of the Engine class via the Car class."
   ]
  },
  {
   "cell_type": "code",
   "execution_count": 2,
   "id": "c7d8f284",
   "metadata": {},
   "outputs": [
    {
     "name": "stdout",
     "output_type": "stream",
     "text": [
      "Engine Started\n"
     ]
    }
   ],
   "source": [
    "class Engine:\n",
    "    def start(self):\n",
    "        return \"Engine Started\"\n",
    "\n",
    "class Car:\n",
    "    def __init__(self,engine:Engine):\n",
    "        self.engine=engine\n",
    "\n",
    "    def start_car(self):\n",
    "        return self.engine.start()\n",
    "\n",
    "engine1=Engine()\n",
    "\n",
    "my_car=Car(engine1)\n",
    "\n",
    "print(my_car.start_car())"
   ]
  }
 ],
 "metadata": {
  "kernelspec": {
   "display_name": "Python 3",
   "language": "python",
   "name": "python3"
  },
  "language_info": {
   "codemirror_mode": {
    "name": "ipython",
    "version": 3
   },
   "file_extension": ".py",
   "mimetype": "text/x-python",
   "name": "python",
   "nbconvert_exporter": "python",
   "pygments_lexer": "ipython3",
   "version": "3.13.2"
  }
 },
 "nbformat": 4,
 "nbformat_minor": 5
}
