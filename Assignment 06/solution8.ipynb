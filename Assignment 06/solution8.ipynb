{
 "cells": [
  {
   "cell_type": "markdown",
   "id": "6fe82cf7",
   "metadata": {},
   "source": [
    "8. The super() Function\n",
    "\n",
    "Assignment:\n",
    "\n",
    "Create a class Person with a constructor that sets the name. Inherit a class Teacher from it, add a subject field, and use super() to call the base class constructor."
   ]
  },
  {
   "cell_type": "code",
   "execution_count": 1,
   "id": "c9b8a05f",
   "metadata": {},
   "outputs": [
    {
     "name": "stdout",
     "output_type": "stream",
     "text": [
      "Ms. Sara\n",
      "Mathematics\n"
     ]
    }
   ],
   "source": [
    "class Person:\n",
    "    def __init__(self,name:str):\n",
    "        self.name=name\n",
    "\n",
    "class Teacher(Person):\n",
    "    def __init__(self, name:str,subject:str):\n",
    "        super().__init__(name)\n",
    "        self.subject=subject\n",
    "\n",
    "#Example Usage\n",
    "teacher1 = Teacher(\"Ms. Sara\", \"Mathematics\")\n",
    "print(teacher1.name)    # Output: Ms. Sara\n",
    "print(teacher1.subject) # Output: Mathematics\n"
   ]
  }
 ],
 "metadata": {
  "kernelspec": {
   "display_name": "Python 3",
   "language": "python",
   "name": "python3"
  },
  "language_info": {
   "codemirror_mode": {
    "name": "ipython",
    "version": 3
   },
   "file_extension": ".py",
   "mimetype": "text/x-python",
   "name": "python",
   "nbconvert_exporter": "python",
   "pygments_lexer": "ipython3",
   "version": "3.13.2"
  }
 },
 "nbformat": 4,
 "nbformat_minor": 5
}
