{
 "cells": [
  {
   "cell_type": "markdown",
   "id": "188e7ff0",
   "metadata": {},
   "source": [
    "6.Constructors and Destructors\n",
    "\n",
    "Assignment:\n",
    "\n",
    "Create a class Logger that prints a message when an object is created (constructor) and another message when it is destroyed (destructor).\n",
    "\n"
   ]
  },
  {
   "cell_type": "code",
   "execution_count": 5,
   "id": "55d8aeac",
   "metadata": {},
   "outputs": [
    {
     "name": "stdout",
     "output_type": "stream",
     "text": [
      "daniyal is logged in.\n",
      "daniyal is logged out.\n"
     ]
    }
   ],
   "source": [
    "class Logger:\n",
    "    def __init__(self, name: str):\n",
    "        self.name = name\n",
    "        print(f\"{self.name} is logged in.\")\n",
    "\n",
    "    def __del__(self):\n",
    "        print(f\"{self.name} is logged out.\")\n",
    "\n",
    "# Example usage\n",
    "user = Logger(\"daniyal\")\n",
    "del user\n"
   ]
  }
 ],
 "metadata": {
  "kernelspec": {
   "display_name": "Python 3",
   "language": "python",
   "name": "python3"
  },
  "language_info": {
   "codemirror_mode": {
    "name": "ipython",
    "version": 3
   },
   "file_extension": ".py",
   "mimetype": "text/x-python",
   "name": "python",
   "nbconvert_exporter": "python",
   "pygments_lexer": "ipython3",
   "version": "3.13.2"
  }
 },
 "nbformat": 4,
 "nbformat_minor": 5
}
