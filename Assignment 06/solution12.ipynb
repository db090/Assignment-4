{
 "cells": [
  {
   "cell_type": "markdown",
   "id": "04d01a9c",
   "metadata": {},
   "source": [
    "12. Static Methods\n",
    "\n",
    "Assignment:\n",
    "\n",
    "Create a class TemperatureConverter with a static method celsius_to_fahrenheit(c) that returns the Fahrenheit value."
   ]
  },
  {
   "cell_type": "code",
   "execution_count": 1,
   "id": "7d075530",
   "metadata": {},
   "outputs": [
    {
     "name": "stdout",
     "output_type": "stream",
     "text": [
      "77.0\n",
      "25.0\n"
     ]
    }
   ],
   "source": [
    "class TemperatureConverter:\n",
    "    def __init__(self,temp_to_convert):\n",
    "        self.temp_to_convert=temp_to_convert\n",
    "\n",
    "    @staticmethod\n",
    "    def celsius_to_fahrenheit(celsius):\n",
    "        return (celsius * 9/5)+32\n",
    "\n",
    "    @staticmethod\n",
    "    def fahrenheit_to_celsius(fahrenheit):\n",
    "        return (fahrenheit - 32)*5/9\n",
    "\n",
    "# Using static methods directly via class\n",
    "print(TemperatureConverter.celsius_to_fahrenheit(25))     # Output: 77.0\n",
    "print(TemperatureConverter.fahrenheit_to_celsius(77))     # Output: 25.0\n",
    "\n",
    "        "
   ]
  }
 ],
 "metadata": {
  "kernelspec": {
   "display_name": "Python 3",
   "language": "python",
   "name": "python3"
  },
  "language_info": {
   "codemirror_mode": {
    "name": "ipython",
    "version": 3
   },
   "file_extension": ".py",
   "mimetype": "text/x-python",
   "name": "python",
   "nbconvert_exporter": "python",
   "pygments_lexer": "ipython3",
   "version": "3.13.2"
  }
 },
 "nbformat": 4,
 "nbformat_minor": 5
}
