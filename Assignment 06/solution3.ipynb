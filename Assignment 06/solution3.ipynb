{
 "cells": [
  {
   "cell_type": "markdown",
   "id": "31a538ba",
   "metadata": {},
   "source": [
    "3.Public Variables and Methods\n",
    "\n",
    "Assignment:\n",
    "\n",
    "Create a class Car with a public variable brand and a public method start(). Instantiate the class and access both from outside the class.\n",
    "\n"
   ]
  },
  {
   "cell_type": "code",
   "execution_count": 1,
   "id": "fbd915af",
   "metadata": {},
   "outputs": [
    {
     "name": "stdout",
     "output_type": "stream",
     "text": [
      "Car Brand: toyota\n",
      "toyota car is starting\n"
     ]
    }
   ],
   "source": [
    "class Car:\n",
    "    def __init__(self,brand:str):\n",
    "        self.brand=brand\n",
    "\n",
    "    def start(self):\n",
    "        print(f\"{self.brand} car is starting\")\n",
    "\n",
    "#Instaniate the class\n",
    "car1=Car(\"toyota\")\n",
    "\n",
    "# Access public variable and method from outside the class\n",
    "print(f\"Car Brand: {car1.brand}\")\n",
    "car1.start()\n",
    "        "
   ]
  }
 ],
 "metadata": {
  "kernelspec": {
   "display_name": "Python 3",
   "language": "python",
   "name": "python3"
  },
  "language_info": {
   "codemirror_mode": {
    "name": "ipython",
    "version": 3
   },
   "file_extension": ".py",
   "mimetype": "text/x-python",
   "name": "python",
   "nbconvert_exporter": "python",
   "pygments_lexer": "ipython3",
   "version": "3.13.2"
  }
 },
 "nbformat": 4,
 "nbformat_minor": 5
}
