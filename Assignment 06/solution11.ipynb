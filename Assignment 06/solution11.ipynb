{
 "cells": [
  {
   "cell_type": "markdown",
   "id": "179c93db",
   "metadata": {},
   "source": [
    "11. Class Methods\n",
    "\n",
    "Assignment:\n",
    "\n",
    "Create a class Book with a class variable total_books. Add a class method increment_book_count() to increase the count when a new book is added."
   ]
  },
  {
   "cell_type": "code",
   "execution_count": 2,
   "id": "30fd122c",
   "metadata": {},
   "outputs": [
    {
     "name": "stdout",
     "output_type": "stream",
     "text": [
      "2\n"
     ]
    }
   ],
   "source": [
    "class Book:\n",
    "    total_books=0\n",
    "\n",
    "    def __init__(self,title):\n",
    "        self.title=title\n",
    "        Book.increment_book_count()\n",
    "\n",
    "    @classmethod\n",
    "    def increment_book_count(cls):\n",
    "        cls.total_books+=1\n",
    "\n",
    "book1 = Book(\"Python Basics\")\n",
    "book2 = Book(\"Advanced Python\")\n",
    "\n",
    "print(Book.total_books)  # Output: 2"
   ]
  },
  {
   "cell_type": "markdown",
   "id": "7f74da07",
   "metadata": {},
   "source": [
    "**Versus**"
   ]
  }
 ],
 "metadata": {
  "kernelspec": {
   "display_name": "Python 3",
   "language": "python",
   "name": "python3"
  },
  "language_info": {
   "codemirror_mode": {
    "name": "ipython",
    "version": 3
   },
   "file_extension": ".py",
   "mimetype": "text/x-python",
   "name": "python",
   "nbconvert_exporter": "python",
   "pygments_lexer": "ipython3",
   "version": "3.13.2"
  }
 },
 "nbformat": 4,
 "nbformat_minor": 5
}
