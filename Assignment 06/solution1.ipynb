{
 "cells": [
  {
   "cell_type": "markdown",
   "id": "ad8a8a6e",
   "metadata": {},
   "source": [
    "1.Using self\n",
    "\n",
    "Assignment:\n",
    "\n",
    "Create a class Student with attributes name and marks. Use the self keyword to initialize these values via a constructor. Add a method display() that prints student details."
   ]
  },
  {
   "cell_type": "code",
   "execution_count": 2,
   "id": "2e17aaee",
   "metadata": {},
   "outputs": [
    {
     "name": "stdout",
     "output_type": "stream",
     "text": [
      "Name:Ali\n",
      "Marks:85.0\n"
     ]
    }
   ],
   "source": [
    "class Student:\n",
    "    def __init__(self,name:str,marks:float):\n",
    "        self.name:str=name\n",
    "        self.marks:float=marks\n",
    "\n",
    "    def display(self) -> None:\n",
    "        print(f\"Name:{self.name}\")\n",
    "        print(f\"Marks:{self.marks}\")\n",
    "\n",
    "#Exapmle Usage\n",
    "student1=Student(\"Ali\",85.0)\n",
    "student1.display()"
   ]
  }
 ],
 "metadata": {
  "kernelspec": {
   "display_name": "Python 3",
   "language": "python",
   "name": "python3"
  },
  "language_info": {
   "codemirror_mode": {
    "name": "ipython",
    "version": 3
   },
   "file_extension": ".py",
   "mimetype": "text/x-python",
   "name": "python",
   "nbconvert_exporter": "python",
   "pygments_lexer": "ipython3",
   "version": "3.13.2"
  }
 },
 "nbformat": 4,
 "nbformat_minor": 5
}
