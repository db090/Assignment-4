{
 "cells": [
  {
   "cell_type": "markdown",
   "id": "3b4068e3",
   "metadata": {},
   "source": [
    "18. Property Decorators: @property, @setter, and @deleter\n",
    "\n",
    "Assignment:\n",
    "\n",
    "Create a class Product with a private attribute _price. Use @property to get the price, @price.setter to update it, and @price.deleter to delete it."
   ]
  },
  {
   "cell_type": "code",
   "execution_count": 4,
   "id": "b18d96d4",
   "metadata": {},
   "outputs": [
    {
     "name": "stdout",
     "output_type": "stream",
     "text": [
      "100\n",
      "150\n",
      "Deleting price...\n"
     ]
    }
   ],
   "source": [
    "class Product:\n",
    "    def __init__(self,price):\n",
    "        self._price=price\n",
    "\n",
    "    @property\n",
    "    def price(self):\n",
    "        return self._price\n",
    "\n",
    "    @price.setter\n",
    "    def price(self,new_price):\n",
    "        if new_price >= 0:\n",
    "            self._price=new_price\n",
    "        else:\n",
    "            raise ValueError(\"Price cannot be negative\")\n",
    "\n",
    "    @price.deleter\n",
    "    def price(self):\n",
    "        print(\"Deleting price...\")\n",
    "        del self._price\n",
    "\n",
    "p=Product(100)\n",
    "print(p.price)\n",
    "\n",
    "p.price = 150\n",
    "print(p.price)\n",
    "\n",
    "del p.price"
   ]
  }
 ],
 "metadata": {
  "kernelspec": {
   "display_name": "Python 3",
   "language": "python",
   "name": "python3"
  },
  "language_info": {
   "codemirror_mode": {
    "name": "ipython",
    "version": 3
   },
   "file_extension": ".py",
   "mimetype": "text/x-python",
   "name": "python",
   "nbconvert_exporter": "python",
   "pygments_lexer": "ipython3",
   "version": "3.13.2"
  }
 },
 "nbformat": 4,
 "nbformat_minor": 5
}
