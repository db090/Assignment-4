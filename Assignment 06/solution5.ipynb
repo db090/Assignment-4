{
 "cells": [
  {
   "cell_type": "markdown",
   "id": "25add354",
   "metadata": {},
   "source": [
    "5.Static Variables and Static Methods\n",
    "\n",
    "Assignment:\n",
    "\n",
    "Create a class MathUtils with a static method add(a, b) that returns the sum. No class or instance variables should be used."
   ]
  },
  {
   "cell_type": "code",
   "execution_count": 1,
   "id": "09ddb44b",
   "metadata": {},
   "outputs": [
    {
     "name": "stdout",
     "output_type": "stream",
     "text": [
      "the sum is: 4\n"
     ]
    }
   ],
   "source": [
    "class MathUtils:\n",
    "    @staticmethod\n",
    "    def add(x:int,y:int)->int:\n",
    "        return x+y\n",
    "\n",
    "#example usage\n",
    "result=MathUtils.add(2,2)\n",
    "print(f\"the sum is: {result}\")"
   ]
  }
 ],
 "metadata": {
  "kernelspec": {
   "display_name": "Python 3",
   "language": "python",
   "name": "python3"
  },
  "language_info": {
   "codemirror_mode": {
    "name": "ipython",
    "version": 3
   },
   "file_extension": ".py",
   "mimetype": "text/x-python",
   "name": "python",
   "nbconvert_exporter": "python",
   "pygments_lexer": "ipython3",
   "version": "3.13.2"
  }
 },
 "nbformat": 4,
 "nbformat_minor": 5
}
