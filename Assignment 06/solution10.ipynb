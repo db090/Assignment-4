{
 "cells": [
  {
   "cell_type": "markdown",
   "id": "e8a383c6",
   "metadata": {},
   "source": [
    "10. Instance Methods\n",
    "\n",
    "Assignment:\n",
    "\n",
    "Create a class Dog with instance variables name and breed. Add an instance method bark() that prints a message including the dog's name."
   ]
  },
  {
   "cell_type": "code",
   "execution_count": 1,
   "id": "261aa108",
   "metadata": {},
   "outputs": [
    {
     "name": "stdout",
     "output_type": "stream",
     "text": [
      "Buddy says Woof!!\n"
     ]
    }
   ],
   "source": [
    "class Dog:\n",
    "    def __init__(self,name:str,breed:str):\n",
    "        self.name=name\n",
    "        self.breed=breed\n",
    "\n",
    "    def bark(self):\n",
    "        print(f\"{self.name} says Woof!!\")\n",
    "\n",
    "dog1 = Dog(\"Buddy\", \"Labrador\")\n",
    "dog1.bark()  "
   ]
  }
 ],
 "metadata": {
  "kernelspec": {
   "display_name": "Python 3",
   "language": "python",
   "name": "python3"
  },
  "language_info": {
   "codemirror_mode": {
    "name": "ipython",
    "version": 3
   },
   "file_extension": ".py",
   "mimetype": "text/x-python",
   "name": "python",
   "nbconvert_exporter": "python",
   "pygments_lexer": "ipython3",
   "version": "3.13.2"
  }
 },
 "nbformat": 4,
 "nbformat_minor": 5
}
