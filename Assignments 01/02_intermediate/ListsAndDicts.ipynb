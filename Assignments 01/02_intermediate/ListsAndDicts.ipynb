{
 "cells": [
  {
   "cell_type": "markdown",
   "metadata": {},
   "source": [
    "Problem #1: List Practice:"
   ]
  },
  {
   "cell_type": "code",
   "execution_count": 4,
   "metadata": {},
   "outputs": [
    {
     "name": "stdout",
     "output_type": "stream",
     "text": [
      "['apple', 'banana', 'guava', 'kiwi']\n",
      "4\n",
      "['apple', 'banana', 'guava', 'kiwi', 'mango']\n",
      "5\n"
     ]
    }
   ],
   "source": [
    "def main():\n",
    "    fruit_list:list=[\"apple\",\"banana\",\"guava\",\"kiwi\"]\n",
    "    print(fruit_list)\n",
    "    print(len(fruit_list))\n",
    "    fruit_list.append(\"mango\")\n",
    "    print(fruit_list)\n",
    "    print(len(fruit_list))\n",
    "if __name__ == \"__main__\":\n",
    "    main()"
   ]
  },
  {
   "cell_type": "markdown",
   "metadata": {},
   "source": [
    "Problem #2: Index Game:"
   ]
  },
  {
   "cell_type": "code",
   "execution_count": null,
   "metadata": {},
   "outputs": [],
   "source": [
    "def acess_index(lst,idx):\n",
    "    if idx >= 0 and idx < len(lst):\n",
    "        print(f\"Value at index {idx} is: {lst[idx]}\")\n",
    "    else:\n",
    "        print(\"Index does not exist in the list.\")\n",
    "\n",
    "def modify_elements(lst,idx,new_value):\n",
    "    if idx >= 0 and idx < len(lst):\n",
    "        lst[idx]=new_value\n",
    "    else:\n",
    "        print(\"Index does not exist in the list.\")\n",
    "\n",
    "def lst_slice(lst,strt_idx,end_idx):\n",
    "    if 0 <= strt_idx <= end_idx <= len(lst):\n",
    "        return lst[strt_idx:end_idx]\n",
    "    else:\n",
    "        return \"Invalid indices\"\n"
   ]
  }
 ],
 "metadata": {
  "kernelspec": {
   "display_name": "Python 3",
   "language": "python",
   "name": "python3"
  },
  "language_info": {
   "codemirror_mode": {
    "name": "ipython",
    "version": 3
   },
   "file_extension": ".py",
   "mimetype": "text/x-python",
   "name": "python",
   "nbconvert_exporter": "python",
   "pygments_lexer": "ipython3",
   "version": "3.13.2"
  }
 },
 "nbformat": 4,
 "nbformat_minor": 2
}
