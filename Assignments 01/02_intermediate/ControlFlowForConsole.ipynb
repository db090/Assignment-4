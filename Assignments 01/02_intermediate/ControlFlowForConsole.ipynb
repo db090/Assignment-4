{
 "cells": [
  {
   "cell_type": "markdown",
   "metadata": {},
   "source": [
    "Problem: High Low:"
   ]
  },
  {
   "cell_type": "code",
   "execution_count": null,
   "metadata": {},
   "outputs": [
    {
     "name": "stdout",
     "output_type": "stream",
     "text": [
      "Welcome to the High-Low Game!\n",
      "--------------------------------\n",
      "Round 1\n",
      "your number is 4\n",
      "You were right! The computer's number was 50\n",
      "your score is now 1\n",
      "--------------------------------\n",
      "Round 2\n",
      "your number is 77\n",
      "You were right! The computer's number was 84\n",
      "your score is now 2\n",
      "--------------------------------\n",
      "Round 3\n",
      "your number is 84\n",
      "Aww, that's incorrect. The computer's number was 71\n",
      "your score is now 2\n",
      "--------------------------------\n",
      "Round 4\n",
      "your number is 83\n",
      "Aww, that's incorrect. The computer's number was 50\n",
      "your score is now 2\n",
      "--------------------------------\n",
      "Round 5\n",
      "your number is 17\n",
      "You were right! The computer's number was 79\n",
      "your score is now 3\n"
     ]
    }
   ],
   "source": [
    "import random\n",
    "\n",
    "NUM_ROUNDS = 5\n",
    "\n",
    "def main():\n",
    "    print(\"Welcome to the High-Low Game!\")\n",
    "   \n",
    "    i=1\n",
    "    score:int=0\n",
    "    while True:\n",
    "        print('--------------------------------')\n",
    "        print(f\"Round {i}\")\n",
    "        your_number:int=random.randint(1,100)\n",
    "        computers_number:int=random.randint(1,100)\n",
    "        print(f\"your number is {your_number}\")\n",
    "        user_guess:str=input(\"Do you think your number is higher or lower than the computer's?:\")\n",
    "        if user_guess.lower() == \"lower\":\n",
    "            if your_number < computers_number:\n",
    "                print(f\"You were right! The computer's number was {computers_number}\")\n",
    "                score+=1\n",
    "            else:\n",
    "                print(f\"Aww, that's incorrect. The computer's number was {computers_number}\")\n",
    "        elif user_guess.lower() == \"higher\":\n",
    "            if your_number > computers_number:\n",
    "                print(f\"You were right! The computer's number was {computers_number}\")\n",
    "                score+=1\n",
    "            else:\n",
    "                print(f\"Aww, that's incorrect. The computer's number was {computers_number}\")\n",
    "        else:\n",
    "            print(\"please enter a valid input\")\n",
    "        print(f\"your score is now {score}\")\n",
    "        i+=1\n",
    "        if i == NUM_ROUNDS+1:\n",
    "            break\n",
    "    print(f\"Game over! Your final score is {score} out of 5.\")\n",
    "                \n",
    "\n",
    "\n",
    "if __name__ == \"__main__\":\n",
    "    main()"
   ]
  }
 ],
 "metadata": {
  "kernelspec": {
   "display_name": "Python 3",
   "language": "python",
   "name": "python3"
  },
  "language_info": {
   "codemirror_mode": {
    "name": "ipython",
    "version": 3
   },
   "file_extension": ".py",
   "mimetype": "text/x-python",
   "name": "python",
   "nbconvert_exporter": "python",
   "pygments_lexer": "ipython3",
   "version": "3.13.2"
  }
 },
 "nbformat": 4,
 "nbformat_minor": 2
}
