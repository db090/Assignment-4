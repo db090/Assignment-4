{
 "cells": [
  {
   "cell_type": "code",
   "execution_count": null,
   "metadata": {},
   "outputs": [
    {
     "name": "stdout",
     "output_type": "stream",
     "text": [
      "Welcome to the High-Low Game!\n",
      "--------------------------------\n",
      "Round 1\n",
      "--------------------------------\n",
      "your number is 18\n",
      "You were right! The computer's number was 41\n",
      "your score is now 1\n",
      "Round 2\n",
      "--------------------------------\n",
      "your number is 91\n",
      "Aww, that's incorrect. The computer's number was 35\n",
      "your score is now 1\n",
      "Round 3\n",
      "--------------------------------\n",
      "your number is 56\n",
      "You were right! The computer's number was 99\n",
      "your score is now 2\n",
      "Round 4\n",
      "--------------------------------\n",
      "your number is 86\n",
      "Aww, that's incorrect. The computer's number was 1\n",
      "your score is now 2\n"
     ]
    }
   ],
   "source": [
    "import random\n",
    "\n",
    "NUM_ROUNDS = 5\n",
    "\n",
    "def main():\n",
    "    print(\"Welcome to the High-Low Game!\")\n",
    "   \n",
    "    i=1\n",
    "    score:int=0\n",
    "    while True:\n",
    "        print(f\"Round {i}\")\n",
    "        print('--------------------------------')\n",
    "        your_number:int=random.randint(1,100)\n",
    "        computers_number:int=random.randint(1,100)\n",
    "        print(f\"your number is {your_number}\")\n",
    "        user_guess:str=input(\"Do you think your number is higher or lower than the computer's?:\")\n",
    "        if user_guess.lower() == \"lower\":\n",
    "            if your_number < computers_number:\n",
    "                print(f\"You were right! The computer's number was {computers_number}\")\n",
    "                score+=1\n",
    "            else:\n",
    "                print(f\"Aww, that's incorrect. The computer's number was {computers_number}\")\n",
    "        elif user_guess.lower() == \"higher\":\n",
    "            if your_number > computers_number:\n",
    "                print(f\"You were right! The computer's number was {computers_number}\")\n",
    "                score+=1\n",
    "            else:\n",
    "                print(f\"Aww, that's incorrect. The computer's number was {computers_number}\")\n",
    "        else:\n",
    "            print(\"please enter a valid input\")\n",
    "        print(f\"your score is now {score}\")\n",
    "        i+=1\n",
    "        if i == NUM_ROUNDS:\n",
    "            break\n",
    "                \n",
    "\n",
    "\n",
    "if __name__ == \"__main__\":\n",
    "    main()"
   ]
  }
 ],
 "metadata": {
  "kernelspec": {
   "display_name": "Python 3",
   "language": "python",
   "name": "python3"
  },
  "language_info": {
   "codemirror_mode": {
    "name": "ipython",
    "version": 3
   },
   "file_extension": ".py",
   "mimetype": "text/x-python",
   "name": "python",
   "nbconvert_exporter": "python",
   "pygments_lexer": "ipython3",
   "version": "3.13.2"
  }
 },
 "nbformat": 4,
 "nbformat_minor": 2
}
