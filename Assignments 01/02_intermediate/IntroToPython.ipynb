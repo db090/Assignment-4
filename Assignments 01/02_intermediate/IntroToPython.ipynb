{
 "cells": [
  {
   "cell_type": "markdown",
   "metadata": {},
   "source": [
    "Problem: Planetary Weight Calculator:"
   ]
  },
  {
   "cell_type": "code",
   "execution_count": 4,
   "metadata": {},
   "outputs": [
    {
     "name": "stdout",
     "output_type": "stream",
     "text": [
      "Your weight on Mars would be:15.12kg\n",
      "Your weight on Mars would be:15.12lbs\n",
      "Safe travels to Mars, astronaut!\n"
     ]
    }
   ],
   "source": [
    "\"\"\"\n",
    "Prompts the user for a weight on Earth\n",
    "and a planet (in separate inputs). Then \n",
    "prints the equivalent weight on that planet.\n",
    "\n",
    "Note that the user should type in a planet with \n",
    "the first letter as uppercase, and you do not need\n",
    "to handle the case where a user types in something \n",
    "other than one of the planets (that is not Earth). \n",
    "\"\"\"\n",
    "\n",
    "\n",
    "# Mars Weight\n",
    "\n",
    "\"\"\"\n",
    "Prompts the user for a weight on Earth\n",
    "and prints the equivalent weight on Mars.\n",
    "\"\"\"\n",
    "\n",
    "def main():\n",
    "    while True:\n",
    "        try:\n",
    "            earth_weight=float(input(\"\\n Enter your weight on Earth: \"))\n",
    "        except ValueError:\n",
    "            print(\"Please enter a valid number.\")\n",
    "            continue\n",
    "\n",
    "        unit=input(\"What unit is this in? (kg or lbs): \").lower()\n",
    "        if unit not in [\"kg\",\"lbs\"]:\n",
    "            print(\"! Please enter either 'kg' or 'lbs' \")\n",
    "            continue\n",
    "        mars_weight=round(earth_weight*0.378,2)\n",
    "\n",
    "        print(f\"Your weight on Mars would be:{mars_weight}{unit}\")\n",
    "\n",
    "        again=input(\"\\n Would you like to try another weight? (yes/no):\").lower()\n",
    "        if again !=\"yes\":\n",
    "            print(\"Safe travels to Mars, astronaut!\")\n",
    "            break\n",
    "\n",
    "if __name__ == \"__main__\":\n",
    "    main()"
   ]
  }
 ],
 "metadata": {
  "kernelspec": {
   "display_name": "Python 3",
   "language": "python",
   "name": "python3"
  },
  "language_info": {
   "codemirror_mode": {
    "name": "ipython",
    "version": 3
   },
   "file_extension": ".py",
   "mimetype": "text/x-python",
   "name": "python",
   "nbconvert_exporter": "python",
   "pygments_lexer": "ipython3",
   "version": "3.13.2"
  }
 },
 "nbformat": 4,
 "nbformat_minor": 2
}
