{
 "cells": [
  {
   "cell_type": "code",
   "execution_count": 3,
   "metadata": {},
   "outputs": [
    {
     "name": "stdout",
     "output_type": "stream",
     "text": [
      "14\n",
      "71\n",
      "91\n",
      "25\n",
      "11\n",
      "2\n",
      "27\n",
      "12\n",
      "99\n",
      "72\n"
     ]
    }
   ],
   "source": [
    "import random\n",
    "\n",
    "N_NUMBERS: int = 10\n",
    "MIN_VALUE: int = 1\n",
    "MAX_VALUE: int = 100\n",
    "\n",
    "def main():\n",
    "    \"\"\"\n",
    "    You should write your code here. Make sure to delete \n",
    "    the 'pass' line before starting to write your own code.\n",
    "    \"\"\"\n",
    "    for i in range(N_NUMBERS):\n",
    "        value=random.randint(MIN_VALUE,MAX_VALUE)\n",
    "        print(value)\n",
    "if __name__ == '__main__':\n",
    "    main()\n"
   ]
  }
 ],
 "metadata": {
  "kernelspec": {
   "display_name": "Python 3",
   "language": "python",
   "name": "python3"
  },
  "language_info": {
   "codemirror_mode": {
    "name": "ipython",
    "version": 3
   },
   "file_extension": ".py",
   "mimetype": "text/x-python",
   "name": "python",
   "nbconvert_exporter": "python",
   "pygments_lexer": "ipython3",
   "version": "3.13.2"
  }
 },
 "nbformat": 4,
 "nbformat_minor": 2
}
