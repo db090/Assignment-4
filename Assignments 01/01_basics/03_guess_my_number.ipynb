{
 "cells": [
  {
   "cell_type": "code",
   "execution_count": 1,
   "metadata": {},
   "outputs": [
    {
     "name": "stdout",
     "output_type": "stream",
     "text": [
      "Your guess is too low\n",
      "Your guess is too low\n",
      "Your guess is too high.\n",
      "Your guess is too high.\n",
      "Your guess is too high.\n",
      "Your guess is too low\n",
      "Your guess is too low\n",
      "Your guess is too high.\n",
      "Your guess is too low\n",
      "Congrats! The number was: 23\n"
     ]
    }
   ],
   "source": [
    "import random\n",
    "\n",
    "def main():\n",
    "    random_number:int=random.randint(0,99)\n",
    "    user_guess:int=int(input(\"I am thinking of a number 0 and 99...Enter a guess\"))\n",
    "    while user_guess != random_number:\n",
    "        if user_guess < random_number:\n",
    "            print(\"Your guess is too low\")\n",
    "        else:\n",
    "            print(\"Your guess is too high.\")\n",
    "        user_guess=int(input(\"Enter a new guess: \"))\n",
    "\n",
    "    print(\"Congrats! The number was:\", random_number)\n",
    "\n",
    "# This provided line is required at the end of\n",
    "# Python file to call the main() function.\n",
    "if __name__ == '__main__':\n",
    "    main()"
   ]
  }
 ],
 "metadata": {
  "kernelspec": {
   "display_name": "Python 3",
   "language": "python",
   "name": "python3"
  },
  "language_info": {
   "codemirror_mode": {
    "name": "ipython",
    "version": 3
   },
   "file_extension": ".py",
   "mimetype": "text/x-python",
   "name": "python",
   "nbconvert_exporter": "python",
   "pygments_lexer": "ipython3",
   "version": "3.13.2"
  }
 },
 "nbformat": 4,
 "nbformat_minor": 2
}
