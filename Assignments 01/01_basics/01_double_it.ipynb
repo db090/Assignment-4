{
 "cells": [
  {
   "cell_type": "code",
   "execution_count": 7,
   "metadata": {},
   "outputs": [
    {
     "name": "stdout",
     "output_type": "stream",
     "text": [
      "180\n"
     ]
    }
   ],
   "source": [
    "def double_until_100():\n",
    "    num = int(input(\"Enter a number: \"))\n",
    "    \n",
    "    if num >= 100:\n",
    "        return \"Please enter a number less than 100\"\n",
    "    \n",
    "    while num < 100:\n",
    "        num = num * 2\n",
    "        print(num)\n",
    "\n",
    "def main():\n",
    "    double_until_100()    \n",
    "\n",
    "if __name__ == '__main__':\n",
    "    main()"
   ]
  }
 ],
 "metadata": {
  "kernelspec": {
   "display_name": "Python 3",
   "language": "python",
   "name": "python3"
  },
  "language_info": {
   "codemirror_mode": {
    "name": "ipython",
    "version": 3
   },
   "file_extension": ".py",
   "mimetype": "text/x-python",
   "name": "python",
   "nbconvert_exporter": "python",
   "pygments_lexer": "ipython3",
   "version": "3.13.2"
  }
 },
 "nbformat": 4,
 "nbformat_minor": 2
}
